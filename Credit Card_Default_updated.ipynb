{
 "cells": [
  {
   "cell_type": "markdown",
   "metadata": {},
   "source": [
    "# Credit Card Default Data\n",
    "\n",
    "### Description:\n",
    "The dataset contains information on default payments, demographics, credit data, history of payment, and bill statements of credit card clients in India from October 2018 to March 2019.\n",
    "\n",
    "### Usage\n",
    "Default\n",
    "\n",
    "### Format\n",
    "A data frame with ~4200 observations on the following 25 variables\n",
    "\n",
    "***ID***: ID of each client\n",
    "\n",
    "***LIMIT_BAL***: Amount of given credit in INR (includes individual and family/supplementary credit\n",
    "\n",
    "***FICO***: Bureau Scor/Credit Score (Ranges from 300 to 900)\n",
    "\n",
    "***EDUCATION***: (1=graduate school, 2=university, 3=high school, 4=others, 5=unknown, 6=unknown)\n",
    "\n",
    "***MARRIAGE***: Marital status (1=married, 2=single, 3=others)\n",
    "\n",
    "***AGE***: Age in years\n",
    "\n",
    "***SEX***: Male/Female\n",
    "\n",
    "***PAY_1***: Repayment status in March, 2019 (-1=pay duly, 1=payment delay for one month, 2=payment delay for two months, … \n",
    "8=payment delay for eight months, 9=payment delay for nine months and above)\n",
    "\n",
    "***PAY_2***: Repayment status in February, 2019 (scale same as above)\n",
    "\n",
    "***PAY_3***: Repayment status in January, 2019 (scale same as above)\n",
    "\n",
    "***BILL_AMT4***: Amount of bill statement in December, 2018 (INR)\n",
    "\n",
    "***BILL_AMT5***: Amount of bill statement in November, 2018 (INR)\n",
    "\n",
    "***BILL_AMT6***: Amount of bill statement in October, 2018 (INR)\n",
    "\n",
    "***PAY_AMT4***: Amount of previous payment in December, 2018 (INR)\n",
    "\n",
    "***PAY_AMT5***: Amount of previous payment in November, 2018 (INR)\n",
    "\n",
    "***PAY_AMT6***: Amount of previous payment in October, 2018 (INR)\n",
    "\n",
    "***default***: Default payment in next month (1=yes, 0=no)\n",
    "\n"
   ]
  },
  {
   "cell_type": "markdown",
   "metadata": {},
   "source": [
    "#### Importing the libraries"
   ]
  },
  {
   "cell_type": "code",
   "execution_count": 1,
   "metadata": {},
   "outputs": [],
   "source": [
    "import numpy as np\n",
    "import matplotlib.pyplot as plt\n",
    "import pandas as pd\n",
    "import seaborn as sns # for making plots with seaborn\n",
    "color = sns.color_palette()\n",
    "import sklearn.metrics as metrics\n",
    "\n",
    "import warnings\n",
    "warnings.filterwarnings(\"ignore\")"
   ]
  },
  {
   "cell_type": "markdown",
   "metadata": {},
   "source": [
    "#### Importing the dataset"
   ]
  },
  {
   "cell_type": "code",
   "execution_count": 2,
   "metadata": {},
   "outputs": [
    {
     "data": {
      "text/html": [
       "<div>\n",
       "<style scoped>\n",
       "    .dataframe tbody tr th:only-of-type {\n",
       "        vertical-align: middle;\n",
       "    }\n",
       "\n",
       "    .dataframe tbody tr th {\n",
       "        vertical-align: top;\n",
       "    }\n",
       "\n",
       "    .dataframe thead th {\n",
       "        text-align: right;\n",
       "    }\n",
       "</style>\n",
       "<table border=\"1\" class=\"dataframe\">\n",
       "  <thead>\n",
       "    <tr style=\"text-align: right;\">\n",
       "      <th></th>\n",
       "      <th>ID</th>\n",
       "      <th>LIMIT_BAL</th>\n",
       "      <th>SEX</th>\n",
       "      <th>EDUCATION</th>\n",
       "      <th>MARRIAGE</th>\n",
       "      <th>AGE</th>\n",
       "      <th>BILL_AMT4</th>\n",
       "      <th>BILL_AMT5</th>\n",
       "      <th>BILL_AMT6</th>\n",
       "      <th>PAY_AMT4</th>\n",
       "      <th>PAY_AMT5</th>\n",
       "      <th>PAY_AMT6</th>\n",
       "      <th>Pay%1</th>\n",
       "      <th>Pay%2</th>\n",
       "      <th>Pay%3</th>\n",
       "      <th>default</th>\n",
       "      <th>FICO</th>\n",
       "    </tr>\n",
       "  </thead>\n",
       "  <tbody>\n",
       "    <tr>\n",
       "      <th>0</th>\n",
       "      <td>4</td>\n",
       "      <td>50000.0</td>\n",
       "      <td>2</td>\n",
       "      <td>2</td>\n",
       "      <td>1</td>\n",
       "      <td>37</td>\n",
       "      <td>28314.0</td>\n",
       "      <td>28959</td>\n",
       "      <td>29547</td>\n",
       "      <td>1111.0</td>\n",
       "      <td>1169.0</td>\n",
       "      <td>1111</td>\n",
       "      <td>0.04</td>\n",
       "      <td>0.04</td>\n",
       "      <td>0.04</td>\n",
       "      <td>0</td>\n",
       "      <td>MT700</td>\n",
       "    </tr>\n",
       "    <tr>\n",
       "      <th>1</th>\n",
       "      <td>15</td>\n",
       "      <td>250000.0</td>\n",
       "      <td>1</td>\n",
       "      <td>1</td>\n",
       "      <td>2</td>\n",
       "      <td>29</td>\n",
       "      <td>59696.0</td>\n",
       "      <td>56875</td>\n",
       "      <td>55512</td>\n",
       "      <td>3111.0</td>\n",
       "      <td>3111.0</td>\n",
       "      <td>3111</td>\n",
       "      <td>0.05</td>\n",
       "      <td>0.05</td>\n",
       "      <td>0.06</td>\n",
       "      <td>0</td>\n",
       "      <td>MT700</td>\n",
       "    </tr>\n",
       "    <tr>\n",
       "      <th>2</th>\n",
       "      <td>17</td>\n",
       "      <td>20000.0</td>\n",
       "      <td>1</td>\n",
       "      <td>1</td>\n",
       "      <td>2</td>\n",
       "      <td>24</td>\n",
       "      <td>18338.0</td>\n",
       "      <td>17915</td>\n",
       "      <td>19114</td>\n",
       "      <td>1.0</td>\n",
       "      <td>1651.0</td>\n",
       "      <td>1</td>\n",
       "      <td>0.00</td>\n",
       "      <td>0.09</td>\n",
       "      <td>0.00</td>\n",
       "      <td>1</td>\n",
       "      <td>LT500</td>\n",
       "    </tr>\n",
       "    <tr>\n",
       "      <th>3</th>\n",
       "      <td>18</td>\n",
       "      <td>320000.0</td>\n",
       "      <td>1</td>\n",
       "      <td>1</td>\n",
       "      <td>1</td>\n",
       "      <td>49</td>\n",
       "      <td>71174.0</td>\n",
       "      <td>5856</td>\n",
       "      <td>195599</td>\n",
       "      <td>21111.0</td>\n",
       "      <td>195599.0</td>\n",
       "      <td>51111</td>\n",
       "      <td>0.30</td>\n",
       "      <td>33.40</td>\n",
       "      <td>0.26</td>\n",
       "      <td>0</td>\n",
       "      <td>MT700</td>\n",
       "    </tr>\n",
       "    <tr>\n",
       "      <th>4</th>\n",
       "      <td>21</td>\n",
       "      <td>130000.0</td>\n",
       "      <td>2</td>\n",
       "      <td>3</td>\n",
       "      <td>2</td>\n",
       "      <td>39</td>\n",
       "      <td>21616.0</td>\n",
       "      <td>11812</td>\n",
       "      <td>931</td>\n",
       "      <td>2111.0</td>\n",
       "      <td>931.0</td>\n",
       "      <td>33764</td>\n",
       "      <td>0.10</td>\n",
       "      <td>0.08</td>\n",
       "      <td>36.27</td>\n",
       "      <td>0</td>\n",
       "      <td>MT700</td>\n",
       "    </tr>\n",
       "  </tbody>\n",
       "</table>\n",
       "</div>"
      ],
      "text/plain": [
       "   ID  LIMIT_BAL  SEX  EDUCATION  MARRIAGE  AGE  BILL_AMT4  BILL_AMT5  \\\n",
       "0   4    50000.0    2          2         1   37    28314.0      28959   \n",
       "1  15   250000.0    1          1         2   29    59696.0      56875   \n",
       "2  17    20000.0    1          1         2   24    18338.0      17915   \n",
       "3  18   320000.0    1          1         1   49    71174.0       5856   \n",
       "4  21   130000.0    2          3         2   39    21616.0      11812   \n",
       "\n",
       "   BILL_AMT6  PAY_AMT4  PAY_AMT5  PAY_AMT6  Pay%1  Pay%2  Pay%3  default  \\\n",
       "0      29547    1111.0    1169.0      1111   0.04   0.04   0.04        0   \n",
       "1      55512    3111.0    3111.0      3111   0.05   0.05   0.06        0   \n",
       "2      19114       1.0    1651.0         1   0.00   0.09   0.00        1   \n",
       "3     195599   21111.0  195599.0     51111   0.30  33.40   0.26        0   \n",
       "4        931    2111.0     931.0     33764   0.10   0.08  36.27        0   \n",
       "\n",
       "    FICO  \n",
       "0  MT700  \n",
       "1  MT700  \n",
       "2  LT500  \n",
       "3  MT700  \n",
       "4  MT700  "
      ]
     },
     "execution_count": 2,
     "metadata": {},
     "output_type": "execute_result"
    }
   ],
   "source": [
    "Default = pd.read_csv('CreditCardDefault.csv')\n",
    "\n",
    "#Glimpse of Data\n",
    "Default.head()"
   ]
  },
  {
   "cell_type": "markdown",
   "metadata": {},
   "source": [
    "#### Fixing messy column names (containing % sign) for ease of use"
   ]
  },
  {
   "cell_type": "code",
   "execution_count": 3,
   "metadata": {},
   "outputs": [],
   "source": [
    "Default.columns = Default.columns.str.replace('%', '_')"
   ]
  },
  {
   "cell_type": "markdown",
   "metadata": {},
   "source": [
    "#### Checking top 5 rows again"
   ]
  },
  {
   "cell_type": "code",
   "execution_count": 4,
   "metadata": {},
   "outputs": [
    {
     "data": {
      "text/html": [
       "<div>\n",
       "<style scoped>\n",
       "    .dataframe tbody tr th:only-of-type {\n",
       "        vertical-align: middle;\n",
       "    }\n",
       "\n",
       "    .dataframe tbody tr th {\n",
       "        vertical-align: top;\n",
       "    }\n",
       "\n",
       "    .dataframe thead th {\n",
       "        text-align: right;\n",
       "    }\n",
       "</style>\n",
       "<table border=\"1\" class=\"dataframe\">\n",
       "  <thead>\n",
       "    <tr style=\"text-align: right;\">\n",
       "      <th></th>\n",
       "      <th>ID</th>\n",
       "      <th>LIMIT_BAL</th>\n",
       "      <th>SEX</th>\n",
       "      <th>EDUCATION</th>\n",
       "      <th>MARRIAGE</th>\n",
       "      <th>AGE</th>\n",
       "      <th>BILL_AMT4</th>\n",
       "      <th>BILL_AMT5</th>\n",
       "      <th>BILL_AMT6</th>\n",
       "      <th>PAY_AMT4</th>\n",
       "      <th>PAY_AMT5</th>\n",
       "      <th>PAY_AMT6</th>\n",
       "      <th>Pay_1</th>\n",
       "      <th>Pay_2</th>\n",
       "      <th>Pay_3</th>\n",
       "      <th>default</th>\n",
       "      <th>FICO</th>\n",
       "    </tr>\n",
       "  </thead>\n",
       "  <tbody>\n",
       "    <tr>\n",
       "      <th>0</th>\n",
       "      <td>4</td>\n",
       "      <td>50000.0</td>\n",
       "      <td>2</td>\n",
       "      <td>2</td>\n",
       "      <td>1</td>\n",
       "      <td>37</td>\n",
       "      <td>28314.0</td>\n",
       "      <td>28959</td>\n",
       "      <td>29547</td>\n",
       "      <td>1111.0</td>\n",
       "      <td>1169.0</td>\n",
       "      <td>1111</td>\n",
       "      <td>0.04</td>\n",
       "      <td>0.04</td>\n",
       "      <td>0.04</td>\n",
       "      <td>0</td>\n",
       "      <td>MT700</td>\n",
       "    </tr>\n",
       "    <tr>\n",
       "      <th>1</th>\n",
       "      <td>15</td>\n",
       "      <td>250000.0</td>\n",
       "      <td>1</td>\n",
       "      <td>1</td>\n",
       "      <td>2</td>\n",
       "      <td>29</td>\n",
       "      <td>59696.0</td>\n",
       "      <td>56875</td>\n",
       "      <td>55512</td>\n",
       "      <td>3111.0</td>\n",
       "      <td>3111.0</td>\n",
       "      <td>3111</td>\n",
       "      <td>0.05</td>\n",
       "      <td>0.05</td>\n",
       "      <td>0.06</td>\n",
       "      <td>0</td>\n",
       "      <td>MT700</td>\n",
       "    </tr>\n",
       "    <tr>\n",
       "      <th>2</th>\n",
       "      <td>17</td>\n",
       "      <td>20000.0</td>\n",
       "      <td>1</td>\n",
       "      <td>1</td>\n",
       "      <td>2</td>\n",
       "      <td>24</td>\n",
       "      <td>18338.0</td>\n",
       "      <td>17915</td>\n",
       "      <td>19114</td>\n",
       "      <td>1.0</td>\n",
       "      <td>1651.0</td>\n",
       "      <td>1</td>\n",
       "      <td>0.00</td>\n",
       "      <td>0.09</td>\n",
       "      <td>0.00</td>\n",
       "      <td>1</td>\n",
       "      <td>LT500</td>\n",
       "    </tr>\n",
       "    <tr>\n",
       "      <th>3</th>\n",
       "      <td>18</td>\n",
       "      <td>320000.0</td>\n",
       "      <td>1</td>\n",
       "      <td>1</td>\n",
       "      <td>1</td>\n",
       "      <td>49</td>\n",
       "      <td>71174.0</td>\n",
       "      <td>5856</td>\n",
       "      <td>195599</td>\n",
       "      <td>21111.0</td>\n",
       "      <td>195599.0</td>\n",
       "      <td>51111</td>\n",
       "      <td>0.30</td>\n",
       "      <td>33.40</td>\n",
       "      <td>0.26</td>\n",
       "      <td>0</td>\n",
       "      <td>MT700</td>\n",
       "    </tr>\n",
       "    <tr>\n",
       "      <th>4</th>\n",
       "      <td>21</td>\n",
       "      <td>130000.0</td>\n",
       "      <td>2</td>\n",
       "      <td>3</td>\n",
       "      <td>2</td>\n",
       "      <td>39</td>\n",
       "      <td>21616.0</td>\n",
       "      <td>11812</td>\n",
       "      <td>931</td>\n",
       "      <td>2111.0</td>\n",
       "      <td>931.0</td>\n",
       "      <td>33764</td>\n",
       "      <td>0.10</td>\n",
       "      <td>0.08</td>\n",
       "      <td>36.27</td>\n",
       "      <td>0</td>\n",
       "      <td>MT700</td>\n",
       "    </tr>\n",
       "  </tbody>\n",
       "</table>\n",
       "</div>"
      ],
      "text/plain": [
       "   ID  LIMIT_BAL  SEX  EDUCATION  MARRIAGE  AGE  BILL_AMT4  BILL_AMT5  \\\n",
       "0   4    50000.0    2          2         1   37    28314.0      28959   \n",
       "1  15   250000.0    1          1         2   29    59696.0      56875   \n",
       "2  17    20000.0    1          1         2   24    18338.0      17915   \n",
       "3  18   320000.0    1          1         1   49    71174.0       5856   \n",
       "4  21   130000.0    2          3         2   39    21616.0      11812   \n",
       "\n",
       "   BILL_AMT6  PAY_AMT4  PAY_AMT5  PAY_AMT6  Pay_1  Pay_2  Pay_3  default  \\\n",
       "0      29547    1111.0    1169.0      1111   0.04   0.04   0.04        0   \n",
       "1      55512    3111.0    3111.0      3111   0.05   0.05   0.06        0   \n",
       "2      19114       1.0    1651.0         1   0.00   0.09   0.00        1   \n",
       "3     195599   21111.0  195599.0     51111   0.30  33.40   0.26        0   \n",
       "4        931    2111.0     931.0     33764   0.10   0.08  36.27        0   \n",
       "\n",
       "    FICO  \n",
       "0  MT700  \n",
       "1  MT700  \n",
       "2  LT500  \n",
       "3  MT700  \n",
       "4  MT700  "
      ]
     },
     "execution_count": 4,
     "metadata": {},
     "output_type": "execute_result"
    }
   ],
   "source": [
    "Default.head()"
   ]
  },
  {
   "cell_type": "markdown",
   "metadata": {},
   "source": [
    "#### First, let us check the number of rows (observations) and the number of columns (variables)."
   ]
  },
  {
   "cell_type": "code",
   "execution_count": 5,
   "metadata": {},
   "outputs": [
    {
     "name": "stdout",
     "output_type": "stream",
     "text": [
      "The number of rows (observations) is 4246 \n",
      "The number of columns (variables) is 17\n"
     ]
    }
   ],
   "source": [
    "print('The number of rows (observations) is',Default.shape[0],'\\n''The number of columns (variables) is',Default.shape[1])"
   ]
  },
  {
   "cell_type": "markdown",
   "metadata": {},
   "source": [
    "#### Data types of all variables"
   ]
  },
  {
   "cell_type": "code",
   "execution_count": 6,
   "metadata": {},
   "outputs": [
    {
     "name": "stdout",
     "output_type": "stream",
     "text": [
      "<class 'pandas.core.frame.DataFrame'>\n",
      "RangeIndex: 4246 entries, 0 to 4245\n",
      "Data columns (total 17 columns):\n",
      " #   Column     Non-Null Count  Dtype  \n",
      "---  ------     --------------  -----  \n",
      " 0   ID         4246 non-null   int64  \n",
      " 1   LIMIT_BAL  4246 non-null   float64\n",
      " 2   SEX        4246 non-null   int64  \n",
      " 3   EDUCATION  4246 non-null   int64  \n",
      " 4   MARRIAGE   4246 non-null   int64  \n",
      " 5   AGE        4246 non-null   int64  \n",
      " 6   BILL_AMT4  4246 non-null   float64\n",
      " 7   BILL_AMT5  4246 non-null   int64  \n",
      " 8   BILL_AMT6  4246 non-null   int64  \n",
      " 9   PAY_AMT4   4246 non-null   float64\n",
      " 10  PAY_AMT5   4246 non-null   float64\n",
      " 11  PAY_AMT6   4246 non-null   int64  \n",
      " 12  Pay_1      4246 non-null   float64\n",
      " 13  Pay_2      4246 non-null   float64\n",
      " 14  Pay_3      4246 non-null   float64\n",
      " 15  default    4246 non-null   int64  \n",
      " 16  FICO       4246 non-null   object \n",
      "dtypes: float64(7), int64(9), object(1)\n",
      "memory usage: 564.0+ KB\n"
     ]
    }
   ],
   "source": [
    "Default.info()"
   ]
  },
  {
   "cell_type": "code",
   "execution_count": 7,
   "metadata": {},
   "outputs": [
    {
     "data": {
      "text/plain": [
       "0"
      ]
     },
     "execution_count": 7,
     "metadata": {},
     "output_type": "execute_result"
    }
   ],
   "source": [
    "Default.duplicated().sum()"
   ]
  },
  {
   "cell_type": "code",
   "execution_count": 8,
   "metadata": {},
   "outputs": [],
   "source": [
    "Default.drop('ID', axis = 1, inplace = True)"
   ]
  },
  {
   "cell_type": "markdown",
   "metadata": {},
   "source": [
    "#### Converting data type of Gender, Education & Marriage to Object as they are character variables"
   ]
  },
  {
   "cell_type": "code",
   "execution_count": 9,
   "metadata": {},
   "outputs": [],
   "source": [
    "Default[\"SEX\"] = Default[\"SEX\"].astype('object')\n",
    "Default[\"EDUCATION\"] = Default[\"EDUCATION\"].astype('object')\n",
    "Default[\"MARRIAGE\"] = Default[\"MARRIAGE\"].astype('object')"
   ]
  },
  {
   "cell_type": "markdown",
   "metadata": {},
   "source": [
    "#### Rechecking Data types of all variables"
   ]
  },
  {
   "cell_type": "code",
   "execution_count": 10,
   "metadata": {},
   "outputs": [
    {
     "name": "stdout",
     "output_type": "stream",
     "text": [
      "<class 'pandas.core.frame.DataFrame'>\n",
      "RangeIndex: 4246 entries, 0 to 4245\n",
      "Data columns (total 16 columns):\n",
      " #   Column     Non-Null Count  Dtype  \n",
      "---  ------     --------------  -----  \n",
      " 0   LIMIT_BAL  4246 non-null   float64\n",
      " 1   SEX        4246 non-null   object \n",
      " 2   EDUCATION  4246 non-null   object \n",
      " 3   MARRIAGE   4246 non-null   object \n",
      " 4   AGE        4246 non-null   int64  \n",
      " 5   BILL_AMT4  4246 non-null   float64\n",
      " 6   BILL_AMT5  4246 non-null   int64  \n",
      " 7   BILL_AMT6  4246 non-null   int64  \n",
      " 8   PAY_AMT4   4246 non-null   float64\n",
      " 9   PAY_AMT5   4246 non-null   float64\n",
      " 10  PAY_AMT6   4246 non-null   int64  \n",
      " 11  Pay_1      4246 non-null   float64\n",
      " 12  Pay_2      4246 non-null   float64\n",
      " 13  Pay_3      4246 non-null   float64\n",
      " 14  default    4246 non-null   int64  \n",
      " 15  FICO       4246 non-null   object \n",
      "dtypes: float64(7), int64(5), object(4)\n",
      "memory usage: 530.9+ KB\n"
     ]
    }
   ],
   "source": [
    "Default.info()"
   ]
  },
  {
   "cell_type": "markdown",
   "metadata": {},
   "source": [
    "#### Now, let us check the basic measures of descriptive statistics for the continuous variables."
   ]
  },
  {
   "cell_type": "code",
   "execution_count": 11,
   "metadata": {},
   "outputs": [
    {
     "data": {
      "text/html": [
       "<div>\n",
       "<style scoped>\n",
       "    .dataframe tbody tr th:only-of-type {\n",
       "        vertical-align: middle;\n",
       "    }\n",
       "\n",
       "    .dataframe tbody tr th {\n",
       "        vertical-align: top;\n",
       "    }\n",
       "\n",
       "    .dataframe thead th {\n",
       "        text-align: right;\n",
       "    }\n",
       "</style>\n",
       "<table border=\"1\" class=\"dataframe\">\n",
       "  <thead>\n",
       "    <tr style=\"text-align: right;\">\n",
       "      <th></th>\n",
       "      <th>LIMIT_BAL</th>\n",
       "      <th>AGE</th>\n",
       "      <th>BILL_AMT4</th>\n",
       "      <th>BILL_AMT5</th>\n",
       "      <th>BILL_AMT6</th>\n",
       "      <th>PAY_AMT4</th>\n",
       "      <th>PAY_AMT5</th>\n",
       "      <th>PAY_AMT6</th>\n",
       "      <th>Pay_1</th>\n",
       "      <th>Pay_2</th>\n",
       "      <th>Pay_3</th>\n",
       "      <th>default</th>\n",
       "    </tr>\n",
       "  </thead>\n",
       "  <tbody>\n",
       "    <tr>\n",
       "      <th>count</th>\n",
       "      <td>4246.000000</td>\n",
       "      <td>4246.000000</td>\n",
       "      <td>4246.000000</td>\n",
       "      <td>4246.000000</td>\n",
       "      <td>4246.000000</td>\n",
       "      <td>4246.000000</td>\n",
       "      <td>4246.000000</td>\n",
       "      <td>4246.000000</td>\n",
       "      <td>4246.000000</td>\n",
       "      <td>4246.000000</td>\n",
       "      <td>4246.000000</td>\n",
       "      <td>4246.000000</td>\n",
       "    </tr>\n",
       "    <tr>\n",
       "      <th>mean</th>\n",
       "      <td>157117.286858</td>\n",
       "      <td>35.047574</td>\n",
       "      <td>57061.098917</td>\n",
       "      <td>53771.845973</td>\n",
       "      <td>51647.689590</td>\n",
       "      <td>5616.298398</td>\n",
       "      <td>5193.867640</td>\n",
       "      <td>5717.024494</td>\n",
       "      <td>0.566373</td>\n",
       "      <td>0.549659</td>\n",
       "      <td>0.681941</td>\n",
       "      <td>0.227037</td>\n",
       "    </tr>\n",
       "    <tr>\n",
       "      <th>std</th>\n",
       "      <td>130528.792785</td>\n",
       "      <td>9.110943</td>\n",
       "      <td>68727.390542</td>\n",
       "      <td>64368.227196</td>\n",
       "      <td>62985.909815</td>\n",
       "      <td>14647.382789</td>\n",
       "      <td>14114.021638</td>\n",
       "      <td>16549.440680</td>\n",
       "      <td>3.454705</td>\n",
       "      <td>3.953106</td>\n",
       "      <td>4.462142</td>\n",
       "      <td>0.418966</td>\n",
       "    </tr>\n",
       "    <tr>\n",
       "      <th>min</th>\n",
       "      <td>10000.000000</td>\n",
       "      <td>21.000000</td>\n",
       "      <td>511.000000</td>\n",
       "      <td>511.000000</td>\n",
       "      <td>511.000000</td>\n",
       "      <td>1.000000</td>\n",
       "      <td>1.000000</td>\n",
       "      <td>1.000000</td>\n",
       "      <td>0.000000</td>\n",
       "      <td>0.000000</td>\n",
       "      <td>0.000000</td>\n",
       "      <td>0.000000</td>\n",
       "    </tr>\n",
       "    <tr>\n",
       "      <th>25%</th>\n",
       "      <td>50000.000000</td>\n",
       "      <td>28.000000</td>\n",
       "      <td>13726.500000</td>\n",
       "      <td>12985.000000</td>\n",
       "      <td>11514.750000</td>\n",
       "      <td>1111.000000</td>\n",
       "      <td>1111.000000</td>\n",
       "      <td>911.000000</td>\n",
       "      <td>0.030000</td>\n",
       "      <td>0.040000</td>\n",
       "      <td>0.030000</td>\n",
       "      <td>0.000000</td>\n",
       "    </tr>\n",
       "    <tr>\n",
       "      <th>50%</th>\n",
       "      <td>120000.000000</td>\n",
       "      <td>33.000000</td>\n",
       "      <td>31130.500000</td>\n",
       "      <td>28922.500000</td>\n",
       "      <td>28138.000000</td>\n",
       "      <td>2136.000000</td>\n",
       "      <td>2111.000000</td>\n",
       "      <td>2111.000000</td>\n",
       "      <td>0.040000</td>\n",
       "      <td>0.050000</td>\n",
       "      <td>0.040000</td>\n",
       "      <td>0.000000</td>\n",
       "    </tr>\n",
       "    <tr>\n",
       "      <th>75%</th>\n",
       "      <td>230000.000000</td>\n",
       "      <td>41.000000</td>\n",
       "      <td>74406.750000</td>\n",
       "      <td>71826.500000</td>\n",
       "      <td>68806.500000</td>\n",
       "      <td>5111.000000</td>\n",
       "      <td>5111.000000</td>\n",
       "      <td>5111.000000</td>\n",
       "      <td>0.120000</td>\n",
       "      <td>0.140000</td>\n",
       "      <td>0.140000</td>\n",
       "      <td>0.000000</td>\n",
       "    </tr>\n",
       "    <tr>\n",
       "      <th>max</th>\n",
       "      <td>1000000.000000</td>\n",
       "      <td>73.000000</td>\n",
       "      <td>891586.000000</td>\n",
       "      <td>927171.000000</td>\n",
       "      <td>961664.000000</td>\n",
       "      <td>321118.000000</td>\n",
       "      <td>417991.000000</td>\n",
       "      <td>261111.000000</td>\n",
       "      <td>106.560000</td>\n",
       "      <td>129.650000</td>\n",
       "      <td>153.330000</td>\n",
       "      <td>1.000000</td>\n",
       "    </tr>\n",
       "  </tbody>\n",
       "</table>\n",
       "</div>"
      ],
      "text/plain": [
       "            LIMIT_BAL          AGE      BILL_AMT4      BILL_AMT5  \\\n",
       "count     4246.000000  4246.000000    4246.000000    4246.000000   \n",
       "mean    157117.286858    35.047574   57061.098917   53771.845973   \n",
       "std     130528.792785     9.110943   68727.390542   64368.227196   \n",
       "min      10000.000000    21.000000     511.000000     511.000000   \n",
       "25%      50000.000000    28.000000   13726.500000   12985.000000   \n",
       "50%     120000.000000    33.000000   31130.500000   28922.500000   \n",
       "75%     230000.000000    41.000000   74406.750000   71826.500000   \n",
       "max    1000000.000000    73.000000  891586.000000  927171.000000   \n",
       "\n",
       "           BILL_AMT6       PAY_AMT4       PAY_AMT5       PAY_AMT6  \\\n",
       "count    4246.000000    4246.000000    4246.000000    4246.000000   \n",
       "mean    51647.689590    5616.298398    5193.867640    5717.024494   \n",
       "std     62985.909815   14647.382789   14114.021638   16549.440680   \n",
       "min       511.000000       1.000000       1.000000       1.000000   \n",
       "25%     11514.750000    1111.000000    1111.000000     911.000000   \n",
       "50%     28138.000000    2136.000000    2111.000000    2111.000000   \n",
       "75%     68806.500000    5111.000000    5111.000000    5111.000000   \n",
       "max    961664.000000  321118.000000  417991.000000  261111.000000   \n",
       "\n",
       "             Pay_1        Pay_2        Pay_3      default  \n",
       "count  4246.000000  4246.000000  4246.000000  4246.000000  \n",
       "mean      0.566373     0.549659     0.681941     0.227037  \n",
       "std       3.454705     3.953106     4.462142     0.418966  \n",
       "min       0.000000     0.000000     0.000000     0.000000  \n",
       "25%       0.030000     0.040000     0.030000     0.000000  \n",
       "50%       0.040000     0.050000     0.040000     0.000000  \n",
       "75%       0.120000     0.140000     0.140000     0.000000  \n",
       "max     106.560000   129.650000   153.330000     1.000000  "
      ]
     },
     "execution_count": 11,
     "metadata": {},
     "output_type": "execute_result"
    }
   ],
   "source": [
    "Default.describe()"
   ]
  },
  {
   "cell_type": "markdown",
   "metadata": {},
   "source": [
    "#### Now, let us check the basic measures of descriptive statistics for the categorical variables"
   ]
  },
  {
   "cell_type": "code",
   "execution_count": 12,
   "metadata": {},
   "outputs": [
    {
     "data": {
      "text/plain": [
       "2    2530\n",
       "1    1716\n",
       "Name: SEX, dtype: int64"
      ]
     },
     "execution_count": 12,
     "metadata": {},
     "output_type": "execute_result"
    }
   ],
   "source": [
    "Default[\"SEX\"].value_counts()"
   ]
  },
  {
   "cell_type": "code",
   "execution_count": 13,
   "metadata": {},
   "outputs": [
    {
     "data": {
      "text/plain": [
       "2    2109\n",
       "1    1416\n",
       "3     721\n",
       "Name: EDUCATION, dtype: int64"
      ]
     },
     "execution_count": 13,
     "metadata": {},
     "output_type": "execute_result"
    }
   ],
   "source": [
    "Default[\"EDUCATION\"].value_counts()"
   ]
  },
  {
   "cell_type": "code",
   "execution_count": 14,
   "metadata": {},
   "outputs": [
    {
     "data": {
      "text/plain": [
       "2    2324\n",
       "1    1861\n",
       "3      58\n",
       "0       3\n",
       "Name: MARRIAGE, dtype: int64"
      ]
     },
     "execution_count": 14,
     "metadata": {},
     "output_type": "execute_result"
    }
   ],
   "source": [
    "Default[\"MARRIAGE\"].value_counts()"
   ]
  },
  {
   "cell_type": "code",
   "execution_count": 15,
   "metadata": {},
   "outputs": [],
   "source": [
    "#Clubbing the levels of Marital Status into Married vs. Single\n",
    "Default[\"MARRIAGE\"] = np.where(Default[\"MARRIAGE\"] == 1, 1, 0)"
   ]
  },
  {
   "cell_type": "code",
   "execution_count": 16,
   "metadata": {},
   "outputs": [
    {
     "data": {
      "text/plain": [
       "0    2385\n",
       "1    1861\n",
       "Name: MARRIAGE, dtype: int64"
      ]
     },
     "execution_count": 16,
     "metadata": {},
     "output_type": "execute_result"
    }
   ],
   "source": [
    "Default[\"MARRIAGE\"].value_counts()"
   ]
  },
  {
   "cell_type": "code",
   "execution_count": 17,
   "metadata": {},
   "outputs": [
    {
     "data": {
      "text/plain": [
       "0    3282\n",
       "1     964\n",
       "Name: default, dtype: int64"
      ]
     },
     "execution_count": 17,
     "metadata": {},
     "output_type": "execute_result"
    }
   ],
   "source": [
    "Default[\"default\"].value_counts()"
   ]
  },
  {
   "cell_type": "markdown",
   "metadata": {},
   "source": [
    "#### Checking proportion of default"
   ]
  },
  {
   "cell_type": "code",
   "execution_count": 18,
   "metadata": {},
   "outputs": [
    {
     "data": {
      "text/plain": [
       "0    0.772963\n",
       "1    0.227037\n",
       "Name: default, dtype: float64"
      ]
     },
     "execution_count": 18,
     "metadata": {},
     "output_type": "execute_result"
    }
   ],
   "source": [
    "Default[\"default\"].value_counts(normalize = True)"
   ]
  },
  {
   "cell_type": "markdown",
   "metadata": {},
   "source": [
    "#### Check for missing values"
   ]
  },
  {
   "cell_type": "code",
   "execution_count": 19,
   "metadata": {},
   "outputs": [
    {
     "data": {
      "text/plain": [
       "LIMIT_BAL    0\n",
       "SEX          0\n",
       "EDUCATION    0\n",
       "MARRIAGE     0\n",
       "AGE          0\n",
       "BILL_AMT4    0\n",
       "BILL_AMT5    0\n",
       "BILL_AMT6    0\n",
       "PAY_AMT4     0\n",
       "PAY_AMT5     0\n",
       "PAY_AMT6     0\n",
       "Pay_1        0\n",
       "Pay_2        0\n",
       "Pay_3        0\n",
       "default      0\n",
       "FICO         0\n",
       "dtype: int64"
      ]
     },
     "execution_count": 19,
     "metadata": {},
     "output_type": "execute_result"
    }
   ],
   "source": [
    "Default.isnull().sum()"
   ]
  },
  {
   "cell_type": "markdown",
   "metadata": {},
   "source": [
    "There are no missing values in the dataset."
   ]
  },
  {
   "cell_type": "markdown",
   "metadata": {},
   "source": [
    "#### Getting Top 5 rows"
   ]
  },
  {
   "cell_type": "code",
   "execution_count": 20,
   "metadata": {},
   "outputs": [
    {
     "data": {
      "text/html": [
       "<div>\n",
       "<style scoped>\n",
       "    .dataframe tbody tr th:only-of-type {\n",
       "        vertical-align: middle;\n",
       "    }\n",
       "\n",
       "    .dataframe tbody tr th {\n",
       "        vertical-align: top;\n",
       "    }\n",
       "\n",
       "    .dataframe thead th {\n",
       "        text-align: right;\n",
       "    }\n",
       "</style>\n",
       "<table border=\"1\" class=\"dataframe\">\n",
       "  <thead>\n",
       "    <tr style=\"text-align: right;\">\n",
       "      <th></th>\n",
       "      <th>LIMIT_BAL</th>\n",
       "      <th>SEX</th>\n",
       "      <th>EDUCATION</th>\n",
       "      <th>MARRIAGE</th>\n",
       "      <th>AGE</th>\n",
       "      <th>BILL_AMT4</th>\n",
       "      <th>BILL_AMT5</th>\n",
       "      <th>BILL_AMT6</th>\n",
       "      <th>PAY_AMT4</th>\n",
       "      <th>PAY_AMT5</th>\n",
       "      <th>PAY_AMT6</th>\n",
       "      <th>Pay_1</th>\n",
       "      <th>Pay_2</th>\n",
       "      <th>Pay_3</th>\n",
       "      <th>default</th>\n",
       "      <th>FICO</th>\n",
       "    </tr>\n",
       "  </thead>\n",
       "  <tbody>\n",
       "    <tr>\n",
       "      <th>0</th>\n",
       "      <td>50000.0</td>\n",
       "      <td>2</td>\n",
       "      <td>2</td>\n",
       "      <td>1</td>\n",
       "      <td>37</td>\n",
       "      <td>28314.0</td>\n",
       "      <td>28959</td>\n",
       "      <td>29547</td>\n",
       "      <td>1111.0</td>\n",
       "      <td>1169.0</td>\n",
       "      <td>1111</td>\n",
       "      <td>0.04</td>\n",
       "      <td>0.04</td>\n",
       "      <td>0.04</td>\n",
       "      <td>0</td>\n",
       "      <td>MT700</td>\n",
       "    </tr>\n",
       "    <tr>\n",
       "      <th>1</th>\n",
       "      <td>250000.0</td>\n",
       "      <td>1</td>\n",
       "      <td>1</td>\n",
       "      <td>0</td>\n",
       "      <td>29</td>\n",
       "      <td>59696.0</td>\n",
       "      <td>56875</td>\n",
       "      <td>55512</td>\n",
       "      <td>3111.0</td>\n",
       "      <td>3111.0</td>\n",
       "      <td>3111</td>\n",
       "      <td>0.05</td>\n",
       "      <td>0.05</td>\n",
       "      <td>0.06</td>\n",
       "      <td>0</td>\n",
       "      <td>MT700</td>\n",
       "    </tr>\n",
       "    <tr>\n",
       "      <th>2</th>\n",
       "      <td>20000.0</td>\n",
       "      <td>1</td>\n",
       "      <td>1</td>\n",
       "      <td>0</td>\n",
       "      <td>24</td>\n",
       "      <td>18338.0</td>\n",
       "      <td>17915</td>\n",
       "      <td>19114</td>\n",
       "      <td>1.0</td>\n",
       "      <td>1651.0</td>\n",
       "      <td>1</td>\n",
       "      <td>0.00</td>\n",
       "      <td>0.09</td>\n",
       "      <td>0.00</td>\n",
       "      <td>1</td>\n",
       "      <td>LT500</td>\n",
       "    </tr>\n",
       "    <tr>\n",
       "      <th>3</th>\n",
       "      <td>320000.0</td>\n",
       "      <td>1</td>\n",
       "      <td>1</td>\n",
       "      <td>1</td>\n",
       "      <td>49</td>\n",
       "      <td>71174.0</td>\n",
       "      <td>5856</td>\n",
       "      <td>195599</td>\n",
       "      <td>21111.0</td>\n",
       "      <td>195599.0</td>\n",
       "      <td>51111</td>\n",
       "      <td>0.30</td>\n",
       "      <td>33.40</td>\n",
       "      <td>0.26</td>\n",
       "      <td>0</td>\n",
       "      <td>MT700</td>\n",
       "    </tr>\n",
       "    <tr>\n",
       "      <th>4</th>\n",
       "      <td>130000.0</td>\n",
       "      <td>2</td>\n",
       "      <td>3</td>\n",
       "      <td>0</td>\n",
       "      <td>39</td>\n",
       "      <td>21616.0</td>\n",
       "      <td>11812</td>\n",
       "      <td>931</td>\n",
       "      <td>2111.0</td>\n",
       "      <td>931.0</td>\n",
       "      <td>33764</td>\n",
       "      <td>0.10</td>\n",
       "      <td>0.08</td>\n",
       "      <td>36.27</td>\n",
       "      <td>0</td>\n",
       "      <td>MT700</td>\n",
       "    </tr>\n",
       "  </tbody>\n",
       "</table>\n",
       "</div>"
      ],
      "text/plain": [
       "   LIMIT_BAL SEX EDUCATION  MARRIAGE  AGE  BILL_AMT4  BILL_AMT5  BILL_AMT6  \\\n",
       "0    50000.0   2         2         1   37    28314.0      28959      29547   \n",
       "1   250000.0   1         1         0   29    59696.0      56875      55512   \n",
       "2    20000.0   1         1         0   24    18338.0      17915      19114   \n",
       "3   320000.0   1         1         1   49    71174.0       5856     195599   \n",
       "4   130000.0   2         3         0   39    21616.0      11812        931   \n",
       "\n",
       "   PAY_AMT4  PAY_AMT5  PAY_AMT6  Pay_1  Pay_2  Pay_3  default   FICO  \n",
       "0    1111.0    1169.0      1111   0.04   0.04   0.04        0  MT700  \n",
       "1    3111.0    3111.0      3111   0.05   0.05   0.06        0  MT700  \n",
       "2       1.0    1651.0         1   0.00   0.09   0.00        1  LT500  \n",
       "3   21111.0  195599.0     51111   0.30  33.40   0.26        0  MT700  \n",
       "4    2111.0     931.0     33764   0.10   0.08  36.27        0  MT700  "
      ]
     },
     "execution_count": 20,
     "metadata": {},
     "output_type": "execute_result"
    }
   ],
   "source": [
    "Default.head()"
   ]
  },
  {
   "cell_type": "markdown",
   "metadata": {},
   "source": [
    "#### Eliminating redundant variables"
   ]
  },
  {
   "cell_type": "code",
   "execution_count": 21,
   "metadata": {},
   "outputs": [],
   "source": [
    "#Since we already have Payment to Bill ratio variables, we can eliminate the Payment and Bill Amounts\n",
    "Default = Default.drop(['BILL_AMT4', 'BILL_AMT5', 'BILL_AMT6', 'PAY_AMT4', 'PAY_AMT5', 'PAY_AMT6'], axis = 1)"
   ]
  },
  {
   "cell_type": "code",
   "execution_count": 22,
   "metadata": {},
   "outputs": [
    {
     "data": {
      "text/html": [
       "<div>\n",
       "<style scoped>\n",
       "    .dataframe tbody tr th:only-of-type {\n",
       "        vertical-align: middle;\n",
       "    }\n",
       "\n",
       "    .dataframe tbody tr th {\n",
       "        vertical-align: top;\n",
       "    }\n",
       "\n",
       "    .dataframe thead th {\n",
       "        text-align: right;\n",
       "    }\n",
       "</style>\n",
       "<table border=\"1\" class=\"dataframe\">\n",
       "  <thead>\n",
       "    <tr style=\"text-align: right;\">\n",
       "      <th></th>\n",
       "      <th>LIMIT_BAL</th>\n",
       "      <th>SEX</th>\n",
       "      <th>EDUCATION</th>\n",
       "      <th>MARRIAGE</th>\n",
       "      <th>AGE</th>\n",
       "      <th>Pay_1</th>\n",
       "      <th>Pay_2</th>\n",
       "      <th>Pay_3</th>\n",
       "      <th>default</th>\n",
       "      <th>FICO</th>\n",
       "    </tr>\n",
       "  </thead>\n",
       "  <tbody>\n",
       "    <tr>\n",
       "      <th>0</th>\n",
       "      <td>50000.0</td>\n",
       "      <td>2</td>\n",
       "      <td>2</td>\n",
       "      <td>1</td>\n",
       "      <td>37</td>\n",
       "      <td>0.04</td>\n",
       "      <td>0.04</td>\n",
       "      <td>0.04</td>\n",
       "      <td>0</td>\n",
       "      <td>MT700</td>\n",
       "    </tr>\n",
       "    <tr>\n",
       "      <th>1</th>\n",
       "      <td>250000.0</td>\n",
       "      <td>1</td>\n",
       "      <td>1</td>\n",
       "      <td>0</td>\n",
       "      <td>29</td>\n",
       "      <td>0.05</td>\n",
       "      <td>0.05</td>\n",
       "      <td>0.06</td>\n",
       "      <td>0</td>\n",
       "      <td>MT700</td>\n",
       "    </tr>\n",
       "    <tr>\n",
       "      <th>2</th>\n",
       "      <td>20000.0</td>\n",
       "      <td>1</td>\n",
       "      <td>1</td>\n",
       "      <td>0</td>\n",
       "      <td>24</td>\n",
       "      <td>0.00</td>\n",
       "      <td>0.09</td>\n",
       "      <td>0.00</td>\n",
       "      <td>1</td>\n",
       "      <td>LT500</td>\n",
       "    </tr>\n",
       "    <tr>\n",
       "      <th>3</th>\n",
       "      <td>320000.0</td>\n",
       "      <td>1</td>\n",
       "      <td>1</td>\n",
       "      <td>1</td>\n",
       "      <td>49</td>\n",
       "      <td>0.30</td>\n",
       "      <td>33.40</td>\n",
       "      <td>0.26</td>\n",
       "      <td>0</td>\n",
       "      <td>MT700</td>\n",
       "    </tr>\n",
       "    <tr>\n",
       "      <th>4</th>\n",
       "      <td>130000.0</td>\n",
       "      <td>2</td>\n",
       "      <td>3</td>\n",
       "      <td>0</td>\n",
       "      <td>39</td>\n",
       "      <td>0.10</td>\n",
       "      <td>0.08</td>\n",
       "      <td>36.27</td>\n",
       "      <td>0</td>\n",
       "      <td>MT700</td>\n",
       "    </tr>\n",
       "  </tbody>\n",
       "</table>\n",
       "</div>"
      ],
      "text/plain": [
       "   LIMIT_BAL SEX EDUCATION  MARRIAGE  AGE  Pay_1  Pay_2  Pay_3  default   FICO\n",
       "0    50000.0   2         2         1   37   0.04   0.04   0.04        0  MT700\n",
       "1   250000.0   1         1         0   29   0.05   0.05   0.06        0  MT700\n",
       "2    20000.0   1         1         0   24   0.00   0.09   0.00        1  LT500\n",
       "3   320000.0   1         1         1   49   0.30  33.40   0.26        0  MT700\n",
       "4   130000.0   2         3         0   39   0.10   0.08  36.27        0  MT700"
      ]
     },
     "execution_count": 22,
     "metadata": {},
     "output_type": "execute_result"
    }
   ],
   "source": [
    "Default.head()"
   ]
  },
  {
   "cell_type": "code",
   "execution_count": 23,
   "metadata": {},
   "outputs": [
    {
     "data": {
      "image/png": "[encoded data removed]",
      "text/plain": [
       "<Figure size 432x288 with 1 Axes>"
      ]
     },
     "metadata": {
      "needs_background": "light"
     },
     "output_type": "display_data"
    }
   ],
   "source": [
    "Default_num = Default[['LIMIT_BAL','AGE','Pay_1','Pay_2','Pay_3']]\n",
    "Default_num.boxplot();"
   ]
  },
  {
   "cell_type": "code",
   "execution_count": 24,
   "metadata": {},
   "outputs": [],
   "source": [
    "def remove_outlier(col):\n",
    "    sorted(col)\n",
    "    Q1,Q3=np.percentile(col,[25,75])\n",
    "    IQR=Q3-Q1\n",
    "    lower_range= Q1-(1.5 * IQR)\n",
    "    upper_range= Q3+(1.5 * IQR)\n",
    "    return lower_range, upper_range"
   ]
  },
  {
   "cell_type": "code",
   "execution_count": 25,
   "metadata": {},
   "outputs": [],
   "source": [
    "for column in Default_num.columns: \n",
    "    lr,ur=remove_outlier(Default_num[column])\n",
    "    Default_num[column]=np.where(Default_num[column]>ur,ur,Default_num[column])\n",
    "    Default_num[column]=np.where(Default_num[column]<lr,lr,Default_num[column])"
   ]
  },
  {
   "cell_type": "code",
   "execution_count": 26,
   "metadata": {},
   "outputs": [
    {
     "data": {
      "image/png": "[encoded data removed]",
      "text/plain": [
       "<Figure size 432x288 with 1 Axes>"
      ]
     },
     "metadata": {
      "needs_background": "light"
     },
     "output_type": "display_data"
    }
   ],
   "source": [
    "Default_num.boxplot();"
   ]
  },
  {
   "cell_type": "code",
   "execution_count": 27,
   "metadata": {},
   "outputs": [
    {
     "data": {
      "image/png": "[encoded data removed]",
      "text/plain": [
       "<Figure size 576x432 with 2 Axes>"
      ]
     },
     "metadata": {
      "needs_background": "light"
     },
     "output_type": "display_data"
    }
   ],
   "source": [
    "plt.subplots(figsize = (8,6))\n",
    "sns.heatmap(Default_num[['LIMIT_BAL', 'AGE', 'Pay_1','Pay_2', 'Pay_3']] .corr(), annot = True, cmap = 'plasma', fmt = '.2f');"
   ]
  },
  {
   "cell_type": "code",
   "execution_count": 28,
   "metadata": {},
   "outputs": [],
   "source": [
    "Default[['LIMIT_BAL', 'AGE', 'Pay_1','Pay_2', 'Pay_3']] = Default_num[['LIMIT_BAL', 'AGE', 'Pay_1','Pay_2', 'Pay_3']]"
   ]
  },
  {
   "cell_type": "markdown",
   "metadata": {},
   "source": [
    "#### Creating dummy variables"
   ]
  },
  {
   "cell_type": "code",
   "execution_count": 29,
   "metadata": {},
   "outputs": [
    {
     "data": {
      "text/html": [
       "<div>\n",
       "<style scoped>\n",
       "    .dataframe tbody tr th:only-of-type {\n",
       "        vertical-align: middle;\n",
       "    }\n",
       "\n",
       "    .dataframe tbody tr th {\n",
       "        vertical-align: top;\n",
       "    }\n",
       "\n",
       "    .dataframe thead th {\n",
       "        text-align: right;\n",
       "    }\n",
       "</style>\n",
       "<table border=\"1\" class=\"dataframe\">\n",
       "  <thead>\n",
       "    <tr style=\"text-align: right;\">\n",
       "      <th></th>\n",
       "      <th>LIMIT_BAL</th>\n",
       "      <th>MARRIAGE</th>\n",
       "      <th>AGE</th>\n",
       "      <th>Pay_1</th>\n",
       "      <th>Pay_2</th>\n",
       "      <th>Pay_3</th>\n",
       "      <th>default</th>\n",
       "      <th>SEX_2</th>\n",
       "      <th>EDUCATION_2</th>\n",
       "      <th>EDUCATION_3</th>\n",
       "      <th>FICO_MT700</th>\n",
       "    </tr>\n",
       "  </thead>\n",
       "  <tbody>\n",
       "    <tr>\n",
       "      <th>0</th>\n",
       "      <td>50000.0</td>\n",
       "      <td>1</td>\n",
       "      <td>37.0</td>\n",
       "      <td>0.040</td>\n",
       "      <td>0.04</td>\n",
       "      <td>0.040</td>\n",
       "      <td>0</td>\n",
       "      <td>1</td>\n",
       "      <td>1</td>\n",
       "      <td>0</td>\n",
       "      <td>1</td>\n",
       "    </tr>\n",
       "    <tr>\n",
       "      <th>1</th>\n",
       "      <td>250000.0</td>\n",
       "      <td>0</td>\n",
       "      <td>29.0</td>\n",
       "      <td>0.050</td>\n",
       "      <td>0.05</td>\n",
       "      <td>0.060</td>\n",
       "      <td>0</td>\n",
       "      <td>0</td>\n",
       "      <td>0</td>\n",
       "      <td>0</td>\n",
       "      <td>1</td>\n",
       "    </tr>\n",
       "    <tr>\n",
       "      <th>2</th>\n",
       "      <td>20000.0</td>\n",
       "      <td>0</td>\n",
       "      <td>24.0</td>\n",
       "      <td>0.000</td>\n",
       "      <td>0.09</td>\n",
       "      <td>0.000</td>\n",
       "      <td>1</td>\n",
       "      <td>0</td>\n",
       "      <td>0</td>\n",
       "      <td>0</td>\n",
       "      <td>0</td>\n",
       "    </tr>\n",
       "    <tr>\n",
       "      <th>3</th>\n",
       "      <td>320000.0</td>\n",
       "      <td>1</td>\n",
       "      <td>49.0</td>\n",
       "      <td>0.255</td>\n",
       "      <td>0.29</td>\n",
       "      <td>0.260</td>\n",
       "      <td>0</td>\n",
       "      <td>0</td>\n",
       "      <td>0</td>\n",
       "      <td>0</td>\n",
       "      <td>1</td>\n",
       "    </tr>\n",
       "    <tr>\n",
       "      <th>4</th>\n",
       "      <td>130000.0</td>\n",
       "      <td>0</td>\n",
       "      <td>39.0</td>\n",
       "      <td>0.100</td>\n",
       "      <td>0.08</td>\n",
       "      <td>0.305</td>\n",
       "      <td>0</td>\n",
       "      <td>1</td>\n",
       "      <td>0</td>\n",
       "      <td>1</td>\n",
       "      <td>1</td>\n",
       "    </tr>\n",
       "  </tbody>\n",
       "</table>\n",
       "</div>"
      ],
      "text/plain": [
       "   LIMIT_BAL  MARRIAGE   AGE  Pay_1  Pay_2  Pay_3  default  SEX_2  \\\n",
       "0    50000.0         1  37.0  0.040   0.04  0.040        0      1   \n",
       "1   250000.0         0  29.0  0.050   0.05  0.060        0      0   \n",
       "2    20000.0         0  24.0  0.000   0.09  0.000        1      0   \n",
       "3   320000.0         1  49.0  0.255   0.29  0.260        0      0   \n",
       "4   130000.0         0  39.0  0.100   0.08  0.305        0      1   \n",
       "\n",
       "   EDUCATION_2  EDUCATION_3  FICO_MT700  \n",
       "0            1            0           1  \n",
       "1            0            0           1  \n",
       "2            0            0           0  \n",
       "3            0            0           1  \n",
       "4            0            1           1  "
      ]
     },
     "execution_count": 29,
     "metadata": {},
     "output_type": "execute_result"
    }
   ],
   "source": [
    "default_dummy = pd.get_dummies(Default,drop_first=True)\n",
    "default_dummy.head()"
   ]
  },
  {
   "cell_type": "markdown",
   "metadata": {},
   "source": [
    "# Model Building using Logistic Regression for 'Probability at default'"
   ]
  },
  {
   "cell_type": "markdown",
   "metadata": {},
   "source": [
    "## The equation of the Logistic Regression by which we predict the corresponding probabilities and then go on predict a discrete target variable is\n",
    "# y = $\\frac{1}{1 + {e^{-z}}}$\n",
    "\n",
    "### Note: z  = $\\beta_0$ +${\\sum_{i=1}^{n}(\\beta_i  X_1)}$"
   ]
  },
  {
   "cell_type": "markdown",
   "metadata": {},
   "source": [
    "#### Now, Importing statsmodels modules"
   ]
  },
  {
   "cell_type": "code",
   "execution_count": 30,
   "metadata": {},
   "outputs": [],
   "source": [
    "import statsmodels.formula.api as SM"
   ]
  },
  {
   "cell_type": "markdown",
   "metadata": {},
   "source": [
    "#### Creating train & test datasets"
   ]
  },
  {
   "cell_type": "code",
   "execution_count": 31,
   "metadata": {},
   "outputs": [],
   "source": [
    "X = default_dummy.drop(['default'], axis=1)\n",
    "y = default_dummy['default']\n",
    "\n",
    "from sklearn.model_selection import train_test_split\n",
    "X_train, X_test, y_train, y_test = train_test_split(X,y,test_size=0.2,random_state=142,stratify=default_dummy['default'])"
   ]
  },
  {
   "cell_type": "code",
   "execution_count": 32,
   "metadata": {},
   "outputs": [],
   "source": [
    "#Statsmodel requires the labelled data, therefore, concatinating the y label to the train set.\n",
    "Default_train = pd.concat([X_train,y_train], axis=1)\n",
    "Default_test = pd.concat([X_test,y_test], axis=1)"
   ]
  },
  {
   "cell_type": "markdown",
   "metadata": {},
   "source": [
    "#### Creating logistic regression equation & storing it in f_1"
   ]
  },
  {
   "cell_type": "markdown",
   "metadata": {},
   "source": [
    "Lets check signifiance of variable 'Score' in a logistic regression model"
   ]
  },
  {
   "cell_type": "markdown",
   "metadata": {},
   "source": [
    "#### Descriptive statistics of Target variable"
   ]
  },
  {
   "cell_type": "code",
   "execution_count": 33,
   "metadata": {},
   "outputs": [
    {
     "data": {
      "text/plain": [
       "0    2625\n",
       "1     771\n",
       "Name: default, dtype: int64"
      ]
     },
     "execution_count": 33,
     "metadata": {},
     "output_type": "execute_result"
    }
   ],
   "source": [
    "Default_train[\"default\"].value_counts()"
   ]
  },
  {
   "cell_type": "markdown",
   "metadata": {},
   "source": [
    "#### Checking if dataset is balanced"
   ]
  },
  {
   "cell_type": "code",
   "execution_count": 34,
   "metadata": {},
   "outputs": [
    {
     "data": {
      "text/plain": [
       "0.22703180212014135"
      ]
     },
     "execution_count": 34,
     "metadata": {},
     "output_type": "execute_result"
    }
   ],
   "source": [
    "Default_train.default.sum() / len(Default_train.default)"
   ]
  },
  {
   "cell_type": "markdown",
   "metadata": {},
   "source": [
    "## Feature Selection\n",
    "\n",
    "The optimal machine learning problem approach is to perform extensive EDA on dataset and understand properties of the predictors before even getting into training models on these variables. However, this is not always possible. Sometimes the dataset has lot many variables; sometimes even hundreds or even thousands of variables, which can quickly outrun human comprehension.\n",
    "\n",
    "Feature selection is the process of tuning down the number of predictor variables used by the models you build.\n",
    "\n",
    "For example, when faced with two models with the same or nearly the same score, but with the latter model using more variables, your immediate instinct should be to choose the one with fewer variables. That model is simpler to train, simpler to understand, easier to run, and less time consuming. \n",
    "\n",
    "Lets start with feature selection methods & validate them back using manual feature selection using backward elimination approach:"
   ]
  },
  {
   "cell_type": "markdown",
   "metadata": {},
   "source": [
    "# Lets try & test features manually using backward elimination approach:"
   ]
  },
  {
   "cell_type": "markdown",
   "metadata": {},
   "source": [
    "## Model 1"
   ]
  },
  {
   "cell_type": "markdown",
   "metadata": {},
   "source": [
    "#### Logistic regression on 'default_smote' dataset"
   ]
  },
  {
   "cell_type": "code",
   "execution_count": 35,
   "metadata": {},
   "outputs": [
    {
     "name": "stdout",
     "output_type": "stream",
     "text": [
      "Optimization terminated successfully.\n",
      "         Current function value: 0.106699\n",
      "         Iterations 12\n"
     ]
    }
   ],
   "source": [
    "#Creating our first model using all variables\n",
    "model_1 = SM.logit(formula = 'default ~ LIMIT_BAL + AGE + Pay_1 + Pay_2 + Pay_3 + SEX_2 + EDUCATION_2 + EDUCATION_3 + MARRIAGE + FICO_MT700', data=Default_train).fit()"
   ]
  },
  {
   "cell_type": "markdown",
   "metadata": {},
   "source": [
    "#### Checking the coefficients"
   ]
  },
  {
   "cell_type": "code",
   "execution_count": 36,
   "metadata": {},
   "outputs": [
    {
     "data": {
      "text/html": [
       "<table class=\"simpletable\">\n",
       "<caption>Logit Regression Results</caption>\n",
       "<tr>\n",
       "  <th>Dep. Variable:</th>        <td>default</td>     <th>  No. Observations:  </th>  <td>  3396</td> \n",
       "</tr>\n",
       "<tr>\n",
       "  <th>Model:</th>                 <td>Logit</td>      <th>  Df Residuals:      </th>  <td>  3385</td> \n",
       "</tr>\n",
       "<tr>\n",
       "  <th>Method:</th>                 <td>MLE</td>       <th>  Df Model:          </th>  <td>    10</td> \n",
       "</tr>\n",
       "<tr>\n",
       "  <th>Date:</th>            <td>Sun, 13 Jun 2021</td> <th>  Pseudo R-squ.:     </th>  <td>0.8008</td> \n",
       "</tr>\n",
       "<tr>\n",
       "  <th>Time:</th>                <td>18:24:15</td>     <th>  Log-Likelihood:    </th> <td> -362.35</td>\n",
       "</tr>\n",
       "<tr>\n",
       "  <th>converged:</th>             <td>True</td>       <th>  LL-Null:           </th> <td> -1819.1</td>\n",
       "</tr>\n",
       "<tr>\n",
       "  <th>Covariance Type:</th>     <td>nonrobust</td>    <th>  LLR p-value:       </th>  <td> 0.000</td> \n",
       "</tr>\n",
       "</table>\n",
       "<table class=\"simpletable\">\n",
       "<tr>\n",
       "       <td></td>          <th>coef</th>     <th>std err</th>      <th>z</th>      <th>P>|z|</th>  <th>[0.025</th>    <th>0.975]</th>  \n",
       "</tr>\n",
       "<tr>\n",
       "  <th>Intercept</th>   <td>    0.3283</td> <td>    0.452</td> <td>    0.726</td> <td> 0.468</td> <td>   -0.558</td> <td>    1.214</td>\n",
       "</tr>\n",
       "<tr>\n",
       "  <th>LIMIT_BAL</th>   <td>-1.962e-06</td> <td> 9.04e-07</td> <td>   -2.169</td> <td> 0.030</td> <td>-3.73e-06</td> <td>-1.89e-07</td>\n",
       "</tr>\n",
       "<tr>\n",
       "  <th>AGE</th>         <td>    0.0127</td> <td>    0.012</td> <td>    1.091</td> <td> 0.275</td> <td>   -0.010</td> <td>    0.036</td>\n",
       "</tr>\n",
       "<tr>\n",
       "  <th>Pay_1</th>       <td>   -4.1752</td> <td>    1.203</td> <td>   -3.471</td> <td> 0.001</td> <td>   -6.533</td> <td>   -1.817</td>\n",
       "</tr>\n",
       "<tr>\n",
       "  <th>Pay_2</th>       <td>   59.4760</td> <td>    5.758</td> <td>   10.329</td> <td> 0.000</td> <td>   48.190</td> <td>   70.762</td>\n",
       "</tr>\n",
       "<tr>\n",
       "  <th>Pay_3</th>       <td>   -2.6873</td> <td>    0.974</td> <td>   -2.759</td> <td> 0.006</td> <td>   -4.596</td> <td>   -0.779</td>\n",
       "</tr>\n",
       "<tr>\n",
       "  <th>SEX_2</th>       <td>   -0.3354</td> <td>    0.191</td> <td>   -1.752</td> <td> 0.080</td> <td>   -0.711</td> <td>    0.040</td>\n",
       "</tr>\n",
       "<tr>\n",
       "  <th>EDUCATION_2</th> <td>    0.1491</td> <td>    0.224</td> <td>    0.665</td> <td> 0.506</td> <td>   -0.291</td> <td>    0.589</td>\n",
       "</tr>\n",
       "<tr>\n",
       "  <th>EDUCATION_3</th> <td>   -0.0994</td> <td>    0.298</td> <td>   -0.334</td> <td> 0.738</td> <td>   -0.683</td> <td>    0.484</td>\n",
       "</tr>\n",
       "<tr>\n",
       "  <th>MARRIAGE</th>    <td>    0.3759</td> <td>    0.218</td> <td>    1.721</td> <td> 0.085</td> <td>   -0.052</td> <td>    0.804</td>\n",
       "</tr>\n",
       "<tr>\n",
       "  <th>FICO_MT700</th>  <td>  -21.4701</td> <td>    1.703</td> <td>  -12.611</td> <td> 0.000</td> <td>  -24.807</td> <td>  -18.133</td>\n",
       "</tr>\n",
       "</table><br/><br/>Possibly complete quasi-separation: A fraction 0.56 of observations can be<br/>perfectly predicted. This might indicate that there is complete<br/>quasi-separation. In this case some parameters will not be identified."
      ],
      "text/plain": [
       "<class 'statsmodels.iolib.summary.Summary'>\n",
       "\"\"\"\n",
       "                           Logit Regression Results                           \n",
       "==============================================================================\n",
       "Dep. Variable:                default   No. Observations:                 3396\n",
       "Model:                          Logit   Df Residuals:                     3385\n",
       "Method:                           MLE   Df Model:                           10\n",
       "Date:                Sun, 13 Jun 2021   Pseudo R-squ.:                  0.8008\n",
       "Time:                        18:24:15   Log-Likelihood:                -362.35\n",
       "converged:                       True   LL-Null:                       -1819.1\n",
       "Covariance Type:            nonrobust   LLR p-value:                     0.000\n",
       "===============================================================================\n",
       "                  coef    std err          z      P>|z|      [0.025      0.975]\n",
       "-------------------------------------------------------------------------------\n",
       "Intercept       0.3283      0.452      0.726      0.468      -0.558       1.214\n",
       "LIMIT_BAL   -1.962e-06   9.04e-07     -2.169      0.030   -3.73e-06   -1.89e-07\n",
       "AGE             0.0127      0.012      1.091      0.275      -0.010       0.036\n",
       "Pay_1          -4.1752      1.203     -3.471      0.001      -6.533      -1.817\n",
       "Pay_2          59.4760      5.758     10.329      0.000      48.190      70.762\n",
       "Pay_3          -2.6873      0.974     -2.759      0.006      -4.596      -0.779\n",
       "SEX_2          -0.3354      0.191     -1.752      0.080      -0.711       0.040\n",
       "EDUCATION_2     0.1491      0.224      0.665      0.506      -0.291       0.589\n",
       "EDUCATION_3    -0.0994      0.298     -0.334      0.738      -0.683       0.484\n",
       "MARRIAGE        0.3759      0.218      1.721      0.085      -0.052       0.804\n",
       "FICO_MT700    -21.4701      1.703    -12.611      0.000     -24.807     -18.133\n",
       "===============================================================================\n",
       "\n",
       "Possibly complete quasi-separation: A fraction 0.56 of observations can be\n",
       "perfectly predicted. This might indicate that there is complete\n",
       "quasi-separation. In this case some parameters will not be identified.\n",
       "\"\"\""
      ]
     },
     "execution_count": 36,
     "metadata": {},
     "output_type": "execute_result"
    }
   ],
   "source": [
    "model_1.summary()"
   ]
  },
  {
   "cell_type": "markdown",
   "metadata": {},
   "source": [
    "Variable Education_3 has the highest p-value and is insignificant, therefore, we need to eliminate it."
   ]
  },
  {
   "cell_type": "markdown",
   "metadata": {},
   "source": [
    "## Model 2"
   ]
  },
  {
   "cell_type": "code",
   "execution_count": 37,
   "metadata": {},
   "outputs": [
    {
     "name": "stdout",
     "output_type": "stream",
     "text": [
      "Optimization terminated successfully.\n",
      "         Current function value: 0.106716\n",
      "         Iterations 12\n"
     ]
    }
   ],
   "source": [
    "model_2 = SM.logit(formula = 'default ~ LIMIT_BAL + AGE + Pay_1 + Pay_2 + Pay_3 + SEX_2 + EDUCATION_2 + MARRIAGE + FICO_MT700', data=Default_train).fit()"
   ]
  },
  {
   "cell_type": "code",
   "execution_count": 38,
   "metadata": {},
   "outputs": [
    {
     "data": {
      "text/html": [
       "<table class=\"simpletable\">\n",
       "<caption>Logit Regression Results</caption>\n",
       "<tr>\n",
       "  <th>Dep. Variable:</th>        <td>default</td>     <th>  No. Observations:  </th>  <td>  3396</td> \n",
       "</tr>\n",
       "<tr>\n",
       "  <th>Model:</th>                 <td>Logit</td>      <th>  Df Residuals:      </th>  <td>  3386</td> \n",
       "</tr>\n",
       "<tr>\n",
       "  <th>Method:</th>                 <td>MLE</td>       <th>  Df Model:          </th>  <td>     9</td> \n",
       "</tr>\n",
       "<tr>\n",
       "  <th>Date:</th>            <td>Sun, 13 Jun 2021</td> <th>  Pseudo R-squ.:     </th>  <td>0.8008</td> \n",
       "</tr>\n",
       "<tr>\n",
       "  <th>Time:</th>                <td>18:24:16</td>     <th>  Log-Likelihood:    </th> <td> -362.41</td>\n",
       "</tr>\n",
       "<tr>\n",
       "  <th>converged:</th>             <td>True</td>       <th>  LL-Null:           </th> <td> -1819.1</td>\n",
       "</tr>\n",
       "<tr>\n",
       "  <th>Covariance Type:</th>     <td>nonrobust</td>    <th>  LLR p-value:       </th>  <td> 0.000</td> \n",
       "</tr>\n",
       "</table>\n",
       "<table class=\"simpletable\">\n",
       "<tr>\n",
       "       <td></td>          <th>coef</th>     <th>std err</th>      <th>z</th>      <th>P>|z|</th>  <th>[0.025</th>    <th>0.975]</th>  \n",
       "</tr>\n",
       "<tr>\n",
       "  <th>Intercept</th>   <td>    0.3050</td> <td>    0.447</td> <td>    0.683</td> <td> 0.495</td> <td>   -0.571</td> <td>    1.181</td>\n",
       "</tr>\n",
       "<tr>\n",
       "  <th>LIMIT_BAL</th>   <td>-1.881e-06</td> <td> 8.71e-07</td> <td>   -2.160</td> <td> 0.031</td> <td>-3.59e-06</td> <td>-1.74e-07</td>\n",
       "</tr>\n",
       "<tr>\n",
       "  <th>AGE</th>         <td>    0.0121</td> <td>    0.012</td> <td>    1.052</td> <td> 0.293</td> <td>   -0.010</td> <td>    0.035</td>\n",
       "</tr>\n",
       "<tr>\n",
       "  <th>Pay_1</th>       <td>   -4.1716</td> <td>    1.202</td> <td>   -3.469</td> <td> 0.001</td> <td>   -6.528</td> <td>   -1.815</td>\n",
       "</tr>\n",
       "<tr>\n",
       "  <th>Pay_2</th>       <td>   59.4057</td> <td>    5.750</td> <td>   10.332</td> <td> 0.000</td> <td>   48.136</td> <td>   70.675</td>\n",
       "</tr>\n",
       "<tr>\n",
       "  <th>Pay_3</th>       <td>   -2.6857</td> <td>    0.974</td> <td>   -2.758</td> <td> 0.006</td> <td>   -4.594</td> <td>   -0.777</td>\n",
       "</tr>\n",
       "<tr>\n",
       "  <th>SEX_2</th>       <td>   -0.3347</td> <td>    0.191</td> <td>   -1.748</td> <td> 0.080</td> <td>   -0.710</td> <td>    0.040</td>\n",
       "</tr>\n",
       "<tr>\n",
       "  <th>EDUCATION_2</th> <td>    0.1868</td> <td>    0.194</td> <td>    0.965</td> <td> 0.335</td> <td>   -0.193</td> <td>    0.566</td>\n",
       "</tr>\n",
       "<tr>\n",
       "  <th>MARRIAGE</th>    <td>    0.3681</td> <td>    0.217</td> <td>    1.695</td> <td> 0.090</td> <td>   -0.058</td> <td>    0.794</td>\n",
       "</tr>\n",
       "<tr>\n",
       "  <th>FICO_MT700</th>  <td>  -21.4470</td> <td>    1.700</td> <td>  -12.618</td> <td> 0.000</td> <td>  -24.778</td> <td>  -18.115</td>\n",
       "</tr>\n",
       "</table><br/><br/>Possibly complete quasi-separation: A fraction 0.56 of observations can be<br/>perfectly predicted. This might indicate that there is complete<br/>quasi-separation. In this case some parameters will not be identified."
      ],
      "text/plain": [
       "<class 'statsmodels.iolib.summary.Summary'>\n",
       "\"\"\"\n",
       "                           Logit Regression Results                           \n",
       "==============================================================================\n",
       "Dep. Variable:                default   No. Observations:                 3396\n",
       "Model:                          Logit   Df Residuals:                     3386\n",
       "Method:                           MLE   Df Model:                            9\n",
       "Date:                Sun, 13 Jun 2021   Pseudo R-squ.:                  0.8008\n",
       "Time:                        18:24:16   Log-Likelihood:                -362.41\n",
       "converged:                       True   LL-Null:                       -1819.1\n",
       "Covariance Type:            nonrobust   LLR p-value:                     0.000\n",
       "===============================================================================\n",
       "                  coef    std err          z      P>|z|      [0.025      0.975]\n",
       "-------------------------------------------------------------------------------\n",
       "Intercept       0.3050      0.447      0.683      0.495      -0.571       1.181\n",
       "LIMIT_BAL   -1.881e-06   8.71e-07     -2.160      0.031   -3.59e-06   -1.74e-07\n",
       "AGE             0.0121      0.012      1.052      0.293      -0.010       0.035\n",
       "Pay_1          -4.1716      1.202     -3.469      0.001      -6.528      -1.815\n",
       "Pay_2          59.4057      5.750     10.332      0.000      48.136      70.675\n",
       "Pay_3          -2.6857      0.974     -2.758      0.006      -4.594      -0.777\n",
       "SEX_2          -0.3347      0.191     -1.748      0.080      -0.710       0.040\n",
       "EDUCATION_2     0.1868      0.194      0.965      0.335      -0.193       0.566\n",
       "MARRIAGE        0.3681      0.217      1.695      0.090      -0.058       0.794\n",
       "FICO_MT700    -21.4470      1.700    -12.618      0.000     -24.778     -18.115\n",
       "===============================================================================\n",
       "\n",
       "Possibly complete quasi-separation: A fraction 0.56 of observations can be\n",
       "perfectly predicted. This might indicate that there is complete\n",
       "quasi-separation. In this case some parameters will not be identified.\n",
       "\"\"\""
      ]
     },
     "execution_count": 38,
     "metadata": {},
     "output_type": "execute_result"
    }
   ],
   "source": [
    "model_2.summary()"
   ]
  },
  {
   "cell_type": "markdown",
   "metadata": {},
   "source": [
    "Now, Education_2 has the highest p-value and is insignificant, therefore, we need to eliminate it."
   ]
  },
  {
   "cell_type": "code",
   "execution_count": 39,
   "metadata": {},
   "outputs": [
    {
     "name": "stdout",
     "output_type": "stream",
     "text": [
      "Optimization terminated successfully.\n",
      "         Current function value: 0.106853\n",
      "         Iterations 12\n"
     ]
    }
   ],
   "source": [
    "model_3 = SM.logit(formula = 'default ~ LIMIT_BAL + AGE + Pay_1 + Pay_2 + Pay_3 + SEX_2 + MARRIAGE + FICO_MT700', data=Default_train).fit()"
   ]
  },
  {
   "cell_type": "code",
   "execution_count": 40,
   "metadata": {},
   "outputs": [
    {
     "data": {
      "text/html": [
       "<table class=\"simpletable\">\n",
       "<caption>Logit Regression Results</caption>\n",
       "<tr>\n",
       "  <th>Dep. Variable:</th>        <td>default</td>     <th>  No. Observations:  </th>  <td>  3396</td> \n",
       "</tr>\n",
       "<tr>\n",
       "  <th>Model:</th>                 <td>Logit</td>      <th>  Df Residuals:      </th>  <td>  3387</td> \n",
       "</tr>\n",
       "<tr>\n",
       "  <th>Method:</th>                 <td>MLE</td>       <th>  Df Model:          </th>  <td>     8</td> \n",
       "</tr>\n",
       "<tr>\n",
       "  <th>Date:</th>            <td>Sun, 13 Jun 2021</td> <th>  Pseudo R-squ.:     </th>  <td>0.8005</td> \n",
       "</tr>\n",
       "<tr>\n",
       "  <th>Time:</th>                <td>18:24:16</td>     <th>  Log-Likelihood:    </th> <td> -362.87</td>\n",
       "</tr>\n",
       "<tr>\n",
       "  <th>converged:</th>             <td>True</td>       <th>  LL-Null:           </th> <td> -1819.1</td>\n",
       "</tr>\n",
       "<tr>\n",
       "  <th>Covariance Type:</th>     <td>nonrobust</td>    <th>  LLR p-value:       </th>  <td> 0.000</td> \n",
       "</tr>\n",
       "</table>\n",
       "<table class=\"simpletable\">\n",
       "<tr>\n",
       "       <td></td>         <th>coef</th>     <th>std err</th>      <th>z</th>      <th>P>|z|</th>  <th>[0.025</th>    <th>0.975]</th>  \n",
       "</tr>\n",
       "<tr>\n",
       "  <th>Intercept</th>  <td>    0.4715</td> <td>    0.412</td> <td>    1.144</td> <td> 0.253</td> <td>   -0.336</td> <td>    1.279</td>\n",
       "</tr>\n",
       "<tr>\n",
       "  <th>LIMIT_BAL</th>  <td>-2.002e-06</td> <td> 8.61e-07</td> <td>   -2.326</td> <td> 0.020</td> <td>-3.69e-06</td> <td>-3.15e-07</td>\n",
       "</tr>\n",
       "<tr>\n",
       "  <th>AGE</th>        <td>    0.0103</td> <td>    0.011</td> <td>    0.904</td> <td> 0.366</td> <td>   -0.012</td> <td>    0.032</td>\n",
       "</tr>\n",
       "<tr>\n",
       "  <th>Pay_1</th>      <td>   -4.2433</td> <td>    1.200</td> <td>   -3.535</td> <td> 0.000</td> <td>   -6.596</td> <td>   -1.891</td>\n",
       "</tr>\n",
       "<tr>\n",
       "  <th>Pay_2</th>      <td>   59.3243</td> <td>    5.736</td> <td>   10.342</td> <td> 0.000</td> <td>   48.082</td> <td>   70.567</td>\n",
       "</tr>\n",
       "<tr>\n",
       "  <th>Pay_3</th>      <td>   -2.6853</td> <td>    0.973</td> <td>   -2.760</td> <td> 0.006</td> <td>   -4.592</td> <td>   -0.778</td>\n",
       "</tr>\n",
       "<tr>\n",
       "  <th>SEX_2</th>      <td>   -0.3301</td> <td>    0.191</td> <td>   -1.727</td> <td> 0.084</td> <td>   -0.705</td> <td>    0.045</td>\n",
       "</tr>\n",
       "<tr>\n",
       "  <th>MARRIAGE</th>   <td>    0.4020</td> <td>    0.214</td> <td>    1.875</td> <td> 0.061</td> <td>   -0.018</td> <td>    0.822</td>\n",
       "</tr>\n",
       "<tr>\n",
       "  <th>FICO_MT700</th> <td>  -21.4223</td> <td>    1.696</td> <td>  -12.632</td> <td> 0.000</td> <td>  -24.746</td> <td>  -18.098</td>\n",
       "</tr>\n",
       "</table><br/><br/>Possibly complete quasi-separation: A fraction 0.56 of observations can be<br/>perfectly predicted. This might indicate that there is complete<br/>quasi-separation. In this case some parameters will not be identified."
      ],
      "text/plain": [
       "<class 'statsmodels.iolib.summary.Summary'>\n",
       "\"\"\"\n",
       "                           Logit Regression Results                           \n",
       "==============================================================================\n",
       "Dep. Variable:                default   No. Observations:                 3396\n",
       "Model:                          Logit   Df Residuals:                     3387\n",
       "Method:                           MLE   Df Model:                            8\n",
       "Date:                Sun, 13 Jun 2021   Pseudo R-squ.:                  0.8005\n",
       "Time:                        18:24:16   Log-Likelihood:                -362.87\n",
       "converged:                       True   LL-Null:                       -1819.1\n",
       "Covariance Type:            nonrobust   LLR p-value:                     0.000\n",
       "==============================================================================\n",
       "                 coef    std err          z      P>|z|      [0.025      0.975]\n",
       "------------------------------------------------------------------------------\n",
       "Intercept      0.4715      0.412      1.144      0.253      -0.336       1.279\n",
       "LIMIT_BAL  -2.002e-06   8.61e-07     -2.326      0.020   -3.69e-06   -3.15e-07\n",
       "AGE            0.0103      0.011      0.904      0.366      -0.012       0.032\n",
       "Pay_1         -4.2433      1.200     -3.535      0.000      -6.596      -1.891\n",
       "Pay_2         59.3243      5.736     10.342      0.000      48.082      70.567\n",
       "Pay_3         -2.6853      0.973     -2.760      0.006      -4.592      -0.778\n",
       "SEX_2         -0.3301      0.191     -1.727      0.084      -0.705       0.045\n",
       "MARRIAGE       0.4020      0.214      1.875      0.061      -0.018       0.822\n",
       "FICO_MT700   -21.4223      1.696    -12.632      0.000     -24.746     -18.098\n",
       "==============================================================================\n",
       "\n",
       "Possibly complete quasi-separation: A fraction 0.56 of observations can be\n",
       "perfectly predicted. This might indicate that there is complete\n",
       "quasi-separation. In this case some parameters will not be identified.\n",
       "\"\"\""
      ]
     },
     "execution_count": 40,
     "metadata": {},
     "output_type": "execute_result"
    }
   ],
   "source": [
    "model_3.summary()"
   ]
  },
  {
   "cell_type": "markdown",
   "metadata": {},
   "source": [
    "Eliminating Age"
   ]
  },
  {
   "cell_type": "code",
   "execution_count": 41,
   "metadata": {},
   "outputs": [
    {
     "name": "stdout",
     "output_type": "stream",
     "text": [
      "Optimization terminated successfully.\n",
      "         Current function value: 0.106974\n",
      "         Iterations 12\n"
     ]
    }
   ],
   "source": [
    "model_4 = SM.logit(formula = 'default ~ LIMIT_BAL + Pay_1 + Pay_2 + Pay_3 + SEX_2 + MARRIAGE + FICO_MT700', data=Default_train).fit()"
   ]
  },
  {
   "cell_type": "code",
   "execution_count": 42,
   "metadata": {
    "scrolled": true
   },
   "outputs": [
    {
     "data": {
      "text/html": [
       "<table class=\"simpletable\">\n",
       "<caption>Logit Regression Results</caption>\n",
       "<tr>\n",
       "  <th>Dep. Variable:</th>        <td>default</td>     <th>  No. Observations:  </th>  <td>  3396</td> \n",
       "</tr>\n",
       "<tr>\n",
       "  <th>Model:</th>                 <td>Logit</td>      <th>  Df Residuals:      </th>  <td>  3388</td> \n",
       "</tr>\n",
       "<tr>\n",
       "  <th>Method:</th>                 <td>MLE</td>       <th>  Df Model:          </th>  <td>     7</td> \n",
       "</tr>\n",
       "<tr>\n",
       "  <th>Date:</th>            <td>Sun, 13 Jun 2021</td> <th>  Pseudo R-squ.:     </th>  <td>0.8003</td> \n",
       "</tr>\n",
       "<tr>\n",
       "  <th>Time:</th>                <td>18:24:16</td>     <th>  Log-Likelihood:    </th> <td> -363.28</td>\n",
       "</tr>\n",
       "<tr>\n",
       "  <th>converged:</th>             <td>True</td>       <th>  LL-Null:           </th> <td> -1819.1</td>\n",
       "</tr>\n",
       "<tr>\n",
       "  <th>Covariance Type:</th>     <td>nonrobust</td>    <th>  LLR p-value:       </th>  <td> 0.000</td> \n",
       "</tr>\n",
       "</table>\n",
       "<table class=\"simpletable\">\n",
       "<tr>\n",
       "       <td></td>         <th>coef</th>     <th>std err</th>      <th>z</th>      <th>P>|z|</th>  <th>[0.025</th>    <th>0.975]</th>  \n",
       "</tr>\n",
       "<tr>\n",
       "  <th>Intercept</th>  <td>    0.7871</td> <td>    0.222</td> <td>    3.552</td> <td> 0.000</td> <td>    0.353</td> <td>    1.221</td>\n",
       "</tr>\n",
       "<tr>\n",
       "  <th>LIMIT_BAL</th>  <td>-1.912e-06</td> <td> 8.54e-07</td> <td>   -2.238</td> <td> 0.025</td> <td>-3.59e-06</td> <td>-2.37e-07</td>\n",
       "</tr>\n",
       "<tr>\n",
       "  <th>Pay_1</th>      <td>   -4.2388</td> <td>    1.199</td> <td>   -3.535</td> <td> 0.000</td> <td>   -6.589</td> <td>   -1.889</td>\n",
       "</tr>\n",
       "<tr>\n",
       "  <th>Pay_2</th>      <td>   59.1875</td> <td>    5.728</td> <td>   10.333</td> <td> 0.000</td> <td>   47.961</td> <td>   70.414</td>\n",
       "</tr>\n",
       "<tr>\n",
       "  <th>Pay_3</th>      <td>   -2.6613</td> <td>    0.971</td> <td>   -2.741</td> <td> 0.006</td> <td>   -4.565</td> <td>   -0.758</td>\n",
       "</tr>\n",
       "<tr>\n",
       "  <th>SEX_2</th>      <td>   -0.3452</td> <td>    0.190</td> <td>   -1.814</td> <td> 0.070</td> <td>   -0.718</td> <td>    0.028</td>\n",
       "</tr>\n",
       "<tr>\n",
       "  <th>MARRIAGE</th>   <td>    0.4893</td> <td>    0.192</td> <td>    2.552</td> <td> 0.011</td> <td>    0.113</td> <td>    0.865</td>\n",
       "</tr>\n",
       "<tr>\n",
       "  <th>FICO_MT700</th> <td>  -21.3872</td> <td>    1.693</td> <td>  -12.630</td> <td> 0.000</td> <td>  -24.706</td> <td>  -18.068</td>\n",
       "</tr>\n",
       "</table><br/><br/>Possibly complete quasi-separation: A fraction 0.56 of observations can be<br/>perfectly predicted. This might indicate that there is complete<br/>quasi-separation. In this case some parameters will not be identified."
      ],
      "text/plain": [
       "<class 'statsmodels.iolib.summary.Summary'>\n",
       "\"\"\"\n",
       "                           Logit Regression Results                           \n",
       "==============================================================================\n",
       "Dep. Variable:                default   No. Observations:                 3396\n",
       "Model:                          Logit   Df Residuals:                     3388\n",
       "Method:                           MLE   Df Model:                            7\n",
       "Date:                Sun, 13 Jun 2021   Pseudo R-squ.:                  0.8003\n",
       "Time:                        18:24:16   Log-Likelihood:                -363.28\n",
       "converged:                       True   LL-Null:                       -1819.1\n",
       "Covariance Type:            nonrobust   LLR p-value:                     0.000\n",
       "==============================================================================\n",
       "                 coef    std err          z      P>|z|      [0.025      0.975]\n",
       "------------------------------------------------------------------------------\n",
       "Intercept      0.7871      0.222      3.552      0.000       0.353       1.221\n",
       "LIMIT_BAL  -1.912e-06   8.54e-07     -2.238      0.025   -3.59e-06   -2.37e-07\n",
       "Pay_1         -4.2388      1.199     -3.535      0.000      -6.589      -1.889\n",
       "Pay_2         59.1875      5.728     10.333      0.000      47.961      70.414\n",
       "Pay_3         -2.6613      0.971     -2.741      0.006      -4.565      -0.758\n",
       "SEX_2         -0.3452      0.190     -1.814      0.070      -0.718       0.028\n",
       "MARRIAGE       0.4893      0.192      2.552      0.011       0.113       0.865\n",
       "FICO_MT700   -21.3872      1.693    -12.630      0.000     -24.706     -18.068\n",
       "==============================================================================\n",
       "\n",
       "Possibly complete quasi-separation: A fraction 0.56 of observations can be\n",
       "perfectly predicted. This might indicate that there is complete\n",
       "quasi-separation. In this case some parameters will not be identified.\n",
       "\"\"\""
      ]
     },
     "execution_count": 42,
     "metadata": {},
     "output_type": "execute_result"
    }
   ],
   "source": [
    "model_4.summary()"
   ]
  },
  {
   "cell_type": "markdown",
   "metadata": {},
   "source": [
    "Eliminating Gender"
   ]
  },
  {
   "cell_type": "code",
   "execution_count": 43,
   "metadata": {},
   "outputs": [
    {
     "name": "stdout",
     "output_type": "stream",
     "text": [
      "Optimization terminated successfully.\n",
      "         Current function value: 0.107462\n",
      "         Iterations 12\n"
     ]
    }
   ],
   "source": [
    "model_5 = SM.logit(formula = 'default ~ LIMIT_BAL + Pay_1 + Pay_2 + Pay_3 + MARRIAGE + FICO_MT700', data=Default_train).fit()"
   ]
  },
  {
   "cell_type": "code",
   "execution_count": 44,
   "metadata": {},
   "outputs": [
    {
     "data": {
      "text/html": [
       "<table class=\"simpletable\">\n",
       "<caption>Logit Regression Results</caption>\n",
       "<tr>\n",
       "  <th>Dep. Variable:</th>        <td>default</td>     <th>  No. Observations:  </th>  <td>  3396</td> \n",
       "</tr>\n",
       "<tr>\n",
       "  <th>Model:</th>                 <td>Logit</td>      <th>  Df Residuals:      </th>  <td>  3389</td> \n",
       "</tr>\n",
       "<tr>\n",
       "  <th>Method:</th>                 <td>MLE</td>       <th>  Df Model:          </th>  <td>     6</td> \n",
       "</tr>\n",
       "<tr>\n",
       "  <th>Date:</th>            <td>Sun, 13 Jun 2021</td> <th>  Pseudo R-squ.:     </th>  <td>0.7994</td> \n",
       "</tr>\n",
       "<tr>\n",
       "  <th>Time:</th>                <td>18:24:16</td>     <th>  Log-Likelihood:    </th> <td> -364.94</td>\n",
       "</tr>\n",
       "<tr>\n",
       "  <th>converged:</th>             <td>True</td>       <th>  LL-Null:           </th> <td> -1819.1</td>\n",
       "</tr>\n",
       "<tr>\n",
       "  <th>Covariance Type:</th>     <td>nonrobust</td>    <th>  LLR p-value:       </th>  <td> 0.000</td> \n",
       "</tr>\n",
       "</table>\n",
       "<table class=\"simpletable\">\n",
       "<tr>\n",
       "       <td></td>         <th>coef</th>     <th>std err</th>      <th>z</th>      <th>P>|z|</th>  <th>[0.025</th>    <th>0.975]</th>  \n",
       "</tr>\n",
       "<tr>\n",
       "  <th>Intercept</th>  <td>    0.6016</td> <td>    0.195</td> <td>    3.087</td> <td> 0.002</td> <td>    0.220</td> <td>    0.983</td>\n",
       "</tr>\n",
       "<tr>\n",
       "  <th>LIMIT_BAL</th>  <td>-1.877e-06</td> <td> 8.52e-07</td> <td>   -2.204</td> <td> 0.028</td> <td>-3.55e-06</td> <td>-2.08e-07</td>\n",
       "</tr>\n",
       "<tr>\n",
       "  <th>Pay_1</th>      <td>   -4.3675</td> <td>    1.192</td> <td>   -3.663</td> <td> 0.000</td> <td>   -6.705</td> <td>   -2.030</td>\n",
       "</tr>\n",
       "<tr>\n",
       "  <th>Pay_2</th>      <td>   58.7146</td> <td>    5.694</td> <td>   10.311</td> <td> 0.000</td> <td>   47.554</td> <td>   69.875</td>\n",
       "</tr>\n",
       "<tr>\n",
       "  <th>Pay_3</th>      <td>   -2.6836</td> <td>    0.967</td> <td>   -2.776</td> <td> 0.006</td> <td>   -4.578</td> <td>   -0.789</td>\n",
       "</tr>\n",
       "<tr>\n",
       "  <th>MARRIAGE</th>   <td>    0.4866</td> <td>    0.191</td> <td>    2.544</td> <td> 0.011</td> <td>    0.112</td> <td>    0.862</td>\n",
       "</tr>\n",
       "<tr>\n",
       "  <th>FICO_MT700</th> <td>  -21.2590</td> <td>    1.684</td> <td>  -12.626</td> <td> 0.000</td> <td>  -24.559</td> <td>  -17.959</td>\n",
       "</tr>\n",
       "</table><br/><br/>Possibly complete quasi-separation: A fraction 0.56 of observations can be<br/>perfectly predicted. This might indicate that there is complete<br/>quasi-separation. In this case some parameters will not be identified."
      ],
      "text/plain": [
       "<class 'statsmodels.iolib.summary.Summary'>\n",
       "\"\"\"\n",
       "                           Logit Regression Results                           \n",
       "==============================================================================\n",
       "Dep. Variable:                default   No. Observations:                 3396\n",
       "Model:                          Logit   Df Residuals:                     3389\n",
       "Method:                           MLE   Df Model:                            6\n",
       "Date:                Sun, 13 Jun 2021   Pseudo R-squ.:                  0.7994\n",
       "Time:                        18:24:16   Log-Likelihood:                -364.94\n",
       "converged:                       True   LL-Null:                       -1819.1\n",
       "Covariance Type:            nonrobust   LLR p-value:                     0.000\n",
       "==============================================================================\n",
       "                 coef    std err          z      P>|z|      [0.025      0.975]\n",
       "------------------------------------------------------------------------------\n",
       "Intercept      0.6016      0.195      3.087      0.002       0.220       0.983\n",
       "LIMIT_BAL  -1.877e-06   8.52e-07     -2.204      0.028   -3.55e-06   -2.08e-07\n",
       "Pay_1         -4.3675      1.192     -3.663      0.000      -6.705      -2.030\n",
       "Pay_2         58.7146      5.694     10.311      0.000      47.554      69.875\n",
       "Pay_3         -2.6836      0.967     -2.776      0.006      -4.578      -0.789\n",
       "MARRIAGE       0.4866      0.191      2.544      0.011       0.112       0.862\n",
       "FICO_MT700   -21.2590      1.684    -12.626      0.000     -24.559     -17.959\n",
       "==============================================================================\n",
       "\n",
       "Possibly complete quasi-separation: A fraction 0.56 of observations can be\n",
       "perfectly predicted. This might indicate that there is complete\n",
       "quasi-separation. In this case some parameters will not be identified.\n",
       "\"\"\""
      ]
     },
     "execution_count": 44,
     "metadata": {},
     "output_type": "execute_result"
    }
   ],
   "source": [
    "model_5.summary()"
   ]
  },
  {
   "cell_type": "markdown",
   "metadata": {},
   "source": [
    "Eliminating Gender varaible"
   ]
  },
  {
   "cell_type": "markdown",
   "metadata": {},
   "source": [
    "Now all the variables are significant, therefore, we don't need to eliminate any variable."
   ]
  },
  {
   "cell_type": "markdown",
   "metadata": {},
   "source": [
    "## Prediction on the Data"
   ]
  },
  {
   "cell_type": "markdown",
   "metadata": {},
   "source": [
    "Now, let us see the predicted probability values."
   ]
  },
  {
   "cell_type": "code",
   "execution_count": 45,
   "metadata": {},
   "outputs": [
    {
     "data": {
      "text/plain": [
       "275     7.891093e-09\n",
       "294     9.999631e-01\n",
       "1226    4.488807e-09\n",
       "1656    1.487710e-08\n",
       "1051    4.925653e-01\n",
       "            ...     \n",
       "2579    9.948083e-01\n",
       "459     8.081906e-03\n",
       "1001    3.582729e-08\n",
       "3240    1.536724e-01\n",
       "850     4.783709e-01\n",
       "Length: 3396, dtype: float64"
      ]
     },
     "execution_count": 45,
     "metadata": {},
     "output_type": "execute_result"
    }
   ],
   "source": [
    "y_prob_pred_train = model_5.predict(Default_train)\n",
    "y_prob_pred_train"
   ]
  },
  {
   "cell_type": "markdown",
   "metadata": {},
   "source": [
    "Let us now see the predicted classes"
   ]
  },
  {
   "cell_type": "code",
   "execution_count": 46,
   "metadata": {},
   "outputs": [],
   "source": [
    "y_class_pred=[]\n",
    "for i in range(0,len(y_prob_pred_train)):\n",
    "    if np.array(y_prob_pred_train)[i]>0.5:\n",
    "        a=1\n",
    "    else:\n",
    "        a=0\n",
    "    y_class_pred.append(a)"
   ]
  },
  {
   "cell_type": "markdown",
   "metadata": {},
   "source": [
    "# Model Evaluation on the Training Data"
   ]
  },
  {
   "cell_type": "markdown",
   "metadata": {},
   "source": [
    "Let us now check the confusion matrix and the classification report followed by the AUC and the AUC-ROC curve."
   ]
  },
  {
   "cell_type": "code",
   "execution_count": 47,
   "metadata": {},
   "outputs": [],
   "source": [
    "from sklearn import metrics"
   ]
  },
  {
   "cell_type": "code",
   "execution_count": 48,
   "metadata": {},
   "outputs": [
    {
     "data": {
      "image/png": "[encoded data removed]",
      "text/plain": [
       "<Figure size 432x288 with 2 Axes>"
      ]
     },
     "metadata": {
      "needs_background": "light"
     },
     "output_type": "display_data"
    }
   ],
   "source": [
    "sns.heatmap((metrics.confusion_matrix(Default_train['default'],y_class_pred)),annot=True,fmt='.5g'\n",
    "            ,cmap='Blues');\n",
    "plt.xlabel('Predicted');\n",
    "plt.ylabel('Actuals',rotation=0);"
   ]
  },
  {
   "cell_type": "markdown",
   "metadata": {},
   "source": [
    "Let us now go ahead and print the classification report to check the various other parameters."
   ]
  },
  {
   "cell_type": "code",
   "execution_count": 49,
   "metadata": {},
   "outputs": [
    {
     "name": "stdout",
     "output_type": "stream",
     "text": [
      "              precision    recall  f1-score   support\n",
      "\n",
      "           0      0.976     0.961     0.968      2625\n",
      "           1      0.873     0.920     0.896       771\n",
      "\n",
      "    accuracy                          0.951      3396\n",
      "   macro avg      0.925     0.940     0.932      3396\n",
      "weighted avg      0.953     0.951     0.952      3396\n",
      "\n"
     ]
    }
   ],
   "source": [
    "print(metrics.classification_report(Default_train['default'],y_class_pred,digits=3))"
   ]
  },
  {
   "cell_type": "markdown",
   "metadata": {},
   "source": [
    "Overall 95% of correct predictions to total predictions were made by the model"
   ]
  },
  {
   "cell_type": "markdown",
   "metadata": {},
   "source": [
    "92% of those defaulted were correctly identified as defaulters by the model"
   ]
  },
  {
   "cell_type": "markdown",
   "metadata": {},
   "source": [
    "#### Now, let us see the predicted probability values on test dataset"
   ]
  },
  {
   "cell_type": "code",
   "execution_count": 50,
   "metadata": {},
   "outputs": [
    {
     "data": {
      "text/plain": [
       "381     1.083660e-07\n",
       "9       9.215232e-01\n",
       "3819    9.968953e-01\n",
       "661     1.454417e-08\n",
       "1205    7.381772e-09\n",
       "            ...     \n",
       "3543    9.675319e-01\n",
       "3980    6.046110e-09\n",
       "1782    2.124131e-08\n",
       "2042    9.998233e-01\n",
       "3597    4.112107e-09\n",
       "Length: 850, dtype: float64"
      ]
     },
     "execution_count": 50,
     "metadata": {},
     "output_type": "execute_result"
    }
   ],
   "source": [
    "y_prob_pred_test = model_5.predict(Default_test)\n",
    "y_prob_pred_test"
   ]
  },
  {
   "cell_type": "markdown",
   "metadata": {},
   "source": [
    "Let us now see the predicted classes"
   ]
  },
  {
   "cell_type": "code",
   "execution_count": 51,
   "metadata": {},
   "outputs": [],
   "source": [
    "y_class_pred=[]\n",
    "for i in range(0,len(y_prob_pred_test)):\n",
    "    if np.array(y_prob_pred_test)[i]>0.5:\n",
    "        a=1\n",
    "    else:\n",
    "        a=0\n",
    "    y_class_pred.append(a)"
   ]
  },
  {
   "cell_type": "markdown",
   "metadata": {},
   "source": [
    "# Model Evaluation on the Test Data"
   ]
  },
  {
   "cell_type": "code",
   "execution_count": 52,
   "metadata": {},
   "outputs": [
    {
     "data": {
      "image/png": "[encoded data removed]",
      "text/plain": [
       "<Figure size 432x288 with 2 Axes>"
      ]
     },
     "metadata": {
      "needs_background": "light"
     },
     "output_type": "display_data"
    }
   ],
   "source": [
    "sns.heatmap((metrics.confusion_matrix(Default_test['default'],y_class_pred)),annot=True,fmt='.5g'\n",
    "            ,cmap='Blues');\n",
    "plt.xlabel('Predicted');\n",
    "plt.ylabel('Actuals',rotation=0);"
   ]
  },
  {
   "cell_type": "markdown",
   "metadata": {},
   "source": [
    "Let us now go ahead and print the classification report to check the various other parameters."
   ]
  },
  {
   "cell_type": "code",
   "execution_count": 53,
   "metadata": {},
   "outputs": [
    {
     "name": "stdout",
     "output_type": "stream",
     "text": [
      "              precision    recall  f1-score   support\n",
      "\n",
      "           0      0.976     0.982     0.979       657\n",
      "           1      0.937     0.917     0.927       193\n",
      "\n",
      "    accuracy                          0.967       850\n",
      "   macro avg      0.956     0.949     0.953       850\n",
      "weighted avg      0.967     0.967     0.967       850\n",
      "\n"
     ]
    }
   ],
   "source": [
    "print(metrics.classification_report(Default_test['default'],y_class_pred,digits=3))"
   ]
  },
  {
   "cell_type": "markdown",
   "metadata": {},
   "source": [
    "Overall 97% of correct predictions to total predictions were made by the model"
   ]
  },
  {
   "cell_type": "markdown",
   "metadata": {},
   "source": [
    "91% of those defaulted were correctly identified as defaulters by the model"
   ]
  },
  {
   "cell_type": "markdown",
   "metadata": {},
   "source": [
    "## END"
   ]
  }
 ],
 "metadata": {
  "kernelspec": {
   "display_name": "Python 3 (ipykernel)",
   "language": "python",
   "name": "python3"
  },
  "language_info": {
   "codemirror_mode": {
    "name": "ipython",
    "version": 3
   },
   "file_extension": ".py",
   "mimetype": "text/x-python",
   "name": "python",
   "nbconvert_exporter": "python",
   "pygments_lexer": "ipython3",
   "version": "3.9.13"
  }
 },
 "nbformat": 4,
 "nbformat_minor": 2
}
